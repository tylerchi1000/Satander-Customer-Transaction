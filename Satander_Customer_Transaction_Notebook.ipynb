{
  "nbformat": 4,
  "nbformat_minor": 0,
  "metadata": {
    "colab": {
      "name": "Satander Customer Transaction Notebook",
      "provenance": [],
      "mount_file_id": "1y-h9Sc1O1csDFkk1rFMwVzrs7SbqVepU",
      "authorship_tag": "ABX9TyPw84ym+nhwmw5cV5NxCKTt",
      "include_colab_link": true
    },
    "kernelspec": {
      "name": "python3",
      "display_name": "Python 3"
    },
    "language_info": {
      "name": "python"
    }
  },
  "cells": [
    {
      "cell_type": "markdown",
      "metadata": {
        "id": "view-in-github",
        "colab_type": "text"
      },
      "source": [
        "<a href=\"https://colab.research.google.com/github/tylerchi1000/Satander-Customer-Transaction/blob/Test/Satander_Customer_Transaction_Notebook.ipynb\" target=\"_parent\"><img src=\"https://colab.research.google.com/assets/colab-badge.svg\" alt=\"Open In Colab\"/></a>"
      ]
    },
    {
      "cell_type": "code",
      "execution_count": null,
      "metadata": {
        "id": "nMti-yOC65dL"
      },
      "outputs": [],
      "source": [
        "import numpy as np\n",
        "import pandas as pd\n",
        "import matplotlib as mpl\n",
        "import matplotlib.pyplot as plt\n",
        "import seaborn as sns\n",
        "import sklearn\n",
        "import tensorflow as tf\n",
        "from sklearn.model_selection import train_test_split"
      ]
    },
    {
      "cell_type": "code",
      "source": [
        "train = pd.read_csv('/content/drive/MyDrive/Kaggle Data/santander-customer-transaction-prediction(1)/train.csv')\n",
        "test = pd.read_csv('/content/drive/MyDrive/Kaggle Data/santander-customer-transaction-prediction(1)/test.csv')\n"
      ],
      "metadata": {
        "id": "aJbSuqji8tN8"
      },
      "execution_count": null,
      "outputs": []
    },
    {
      "cell_type": "code",
      "source": [
        "train.shape"
      ],
      "metadata": {
        "colab": {
          "base_uri": "https://localhost:8080/"
        },
        "id": "I7ioB1KhPPP7",
        "outputId": "d57641be-c10e-4a94-f51c-469c52a3eab5"
      },
      "execution_count": null,
      "outputs": [
        {
          "output_type": "execute_result",
          "data": {
            "text/plain": [
              "(200000, 202)"
            ]
          },
          "metadata": {},
          "execution_count": 6
        }
      ]
    },
    {
      "cell_type": "code",
      "source": [
        "train.head()"
      ],
      "metadata": {
        "colab": {
          "base_uri": "https://localhost:8080/",
          "height": 300
        },
        "id": "0dbAkeayPRgR",
        "outputId": "b691aaca-7a36-4cbf-d782-0af8f670bf09"
      },
      "execution_count": null,
      "outputs": [
        {
          "output_type": "execute_result",
          "data": {
            "text/plain": [
              "   ID_code  target    var_0   var_1    var_2   var_3    var_4   var_5   var_6  \\\n",
              "0  train_0       0   8.9255 -6.7863  11.9081  5.0930  11.4607 -9.2834  5.1187   \n",
              "1  train_1       0  11.5006 -4.1473  13.8588  5.3890  12.3622  7.0433  5.6208   \n",
              "2  train_2       0   8.6093 -2.7457  12.0805  7.8928  10.5825 -9.0837  6.9427   \n",
              "3  train_3       0  11.0604 -2.1518   8.9522  7.1957  12.5846 -1.8361  5.8428   \n",
              "4  train_4       0   9.8369 -1.4834  12.8746  6.6375  12.2772  2.4486  5.9405   \n",
              "\n",
              "     var_7  ...  var_190  var_191  var_192  var_193  var_194  var_195  \\\n",
              "0  18.6266  ...   4.4354   3.9642   3.1364   1.6910  18.5227  -2.3978   \n",
              "1  16.5338  ...   7.6421   7.7214   2.5837  10.9516  15.4305   2.0339   \n",
              "2  14.6155  ...   2.9057   9.7905   1.6704   1.6858  21.6042   3.1417   \n",
              "3  14.9250  ...   4.4666   4.7433   0.7178   1.4214  23.0347  -1.2706   \n",
              "4  19.2514  ...  -1.4905   9.5214  -0.1508   9.1942  13.2876  -1.5121   \n",
              "\n",
              "   var_196  var_197  var_198  var_199  \n",
              "0   7.8784   8.5635  12.7803  -1.0914  \n",
              "1   8.1267   8.7889  18.3560   1.9518  \n",
              "2  -6.5213   8.2675  14.7222   0.3965  \n",
              "3  -2.9275  10.2922  17.9697  -8.9996  \n",
              "4   3.9267   9.5031  17.9974  -8.8104  \n",
              "\n",
              "[5 rows x 202 columns]"
            ],
            "text/html": [
              "\n",
              "  <div id=\"df-06cf9294-4ff2-4415-9382-77b3cde81269\">\n",
              "    <div class=\"colab-df-container\">\n",
              "      <div>\n",
              "<style scoped>\n",
              "    .dataframe tbody tr th:only-of-type {\n",
              "        vertical-align: middle;\n",
              "    }\n",
              "\n",
              "    .dataframe tbody tr th {\n",
              "        vertical-align: top;\n",
              "    }\n",
              "\n",
              "    .dataframe thead th {\n",
              "        text-align: right;\n",
              "    }\n",
              "</style>\n",
              "<table border=\"1\" class=\"dataframe\">\n",
              "  <thead>\n",
              "    <tr style=\"text-align: right;\">\n",
              "      <th></th>\n",
              "      <th>ID_code</th>\n",
              "      <th>target</th>\n",
              "      <th>var_0</th>\n",
              "      <th>var_1</th>\n",
              "      <th>var_2</th>\n",
              "      <th>var_3</th>\n",
              "      <th>var_4</th>\n",
              "      <th>var_5</th>\n",
              "      <th>var_6</th>\n",
              "      <th>var_7</th>\n",
              "      <th>...</th>\n",
              "      <th>var_190</th>\n",
              "      <th>var_191</th>\n",
              "      <th>var_192</th>\n",
              "      <th>var_193</th>\n",
              "      <th>var_194</th>\n",
              "      <th>var_195</th>\n",
              "      <th>var_196</th>\n",
              "      <th>var_197</th>\n",
              "      <th>var_198</th>\n",
              "      <th>var_199</th>\n",
              "    </tr>\n",
              "  </thead>\n",
              "  <tbody>\n",
              "    <tr>\n",
              "      <th>0</th>\n",
              "      <td>train_0</td>\n",
              "      <td>0</td>\n",
              "      <td>8.9255</td>\n",
              "      <td>-6.7863</td>\n",
              "      <td>11.9081</td>\n",
              "      <td>5.0930</td>\n",
              "      <td>11.4607</td>\n",
              "      <td>-9.2834</td>\n",
              "      <td>5.1187</td>\n",
              "      <td>18.6266</td>\n",
              "      <td>...</td>\n",
              "      <td>4.4354</td>\n",
              "      <td>3.9642</td>\n",
              "      <td>3.1364</td>\n",
              "      <td>1.6910</td>\n",
              "      <td>18.5227</td>\n",
              "      <td>-2.3978</td>\n",
              "      <td>7.8784</td>\n",
              "      <td>8.5635</td>\n",
              "      <td>12.7803</td>\n",
              "      <td>-1.0914</td>\n",
              "    </tr>\n",
              "    <tr>\n",
              "      <th>1</th>\n",
              "      <td>train_1</td>\n",
              "      <td>0</td>\n",
              "      <td>11.5006</td>\n",
              "      <td>-4.1473</td>\n",
              "      <td>13.8588</td>\n",
              "      <td>5.3890</td>\n",
              "      <td>12.3622</td>\n",
              "      <td>7.0433</td>\n",
              "      <td>5.6208</td>\n",
              "      <td>16.5338</td>\n",
              "      <td>...</td>\n",
              "      <td>7.6421</td>\n",
              "      <td>7.7214</td>\n",
              "      <td>2.5837</td>\n",
              "      <td>10.9516</td>\n",
              "      <td>15.4305</td>\n",
              "      <td>2.0339</td>\n",
              "      <td>8.1267</td>\n",
              "      <td>8.7889</td>\n",
              "      <td>18.3560</td>\n",
              "      <td>1.9518</td>\n",
              "    </tr>\n",
              "    <tr>\n",
              "      <th>2</th>\n",
              "      <td>train_2</td>\n",
              "      <td>0</td>\n",
              "      <td>8.6093</td>\n",
              "      <td>-2.7457</td>\n",
              "      <td>12.0805</td>\n",
              "      <td>7.8928</td>\n",
              "      <td>10.5825</td>\n",
              "      <td>-9.0837</td>\n",
              "      <td>6.9427</td>\n",
              "      <td>14.6155</td>\n",
              "      <td>...</td>\n",
              "      <td>2.9057</td>\n",
              "      <td>9.7905</td>\n",
              "      <td>1.6704</td>\n",
              "      <td>1.6858</td>\n",
              "      <td>21.6042</td>\n",
              "      <td>3.1417</td>\n",
              "      <td>-6.5213</td>\n",
              "      <td>8.2675</td>\n",
              "      <td>14.7222</td>\n",
              "      <td>0.3965</td>\n",
              "    </tr>\n",
              "    <tr>\n",
              "      <th>3</th>\n",
              "      <td>train_3</td>\n",
              "      <td>0</td>\n",
              "      <td>11.0604</td>\n",
              "      <td>-2.1518</td>\n",
              "      <td>8.9522</td>\n",
              "      <td>7.1957</td>\n",
              "      <td>12.5846</td>\n",
              "      <td>-1.8361</td>\n",
              "      <td>5.8428</td>\n",
              "      <td>14.9250</td>\n",
              "      <td>...</td>\n",
              "      <td>4.4666</td>\n",
              "      <td>4.7433</td>\n",
              "      <td>0.7178</td>\n",
              "      <td>1.4214</td>\n",
              "      <td>23.0347</td>\n",
              "      <td>-1.2706</td>\n",
              "      <td>-2.9275</td>\n",
              "      <td>10.2922</td>\n",
              "      <td>17.9697</td>\n",
              "      <td>-8.9996</td>\n",
              "    </tr>\n",
              "    <tr>\n",
              "      <th>4</th>\n",
              "      <td>train_4</td>\n",
              "      <td>0</td>\n",
              "      <td>9.8369</td>\n",
              "      <td>-1.4834</td>\n",
              "      <td>12.8746</td>\n",
              "      <td>6.6375</td>\n",
              "      <td>12.2772</td>\n",
              "      <td>2.4486</td>\n",
              "      <td>5.9405</td>\n",
              "      <td>19.2514</td>\n",
              "      <td>...</td>\n",
              "      <td>-1.4905</td>\n",
              "      <td>9.5214</td>\n",
              "      <td>-0.1508</td>\n",
              "      <td>9.1942</td>\n",
              "      <td>13.2876</td>\n",
              "      <td>-1.5121</td>\n",
              "      <td>3.9267</td>\n",
              "      <td>9.5031</td>\n",
              "      <td>17.9974</td>\n",
              "      <td>-8.8104</td>\n",
              "    </tr>\n",
              "  </tbody>\n",
              "</table>\n",
              "<p>5 rows × 202 columns</p>\n",
              "</div>\n",
              "      <button class=\"colab-df-convert\" onclick=\"convertToInteractive('df-06cf9294-4ff2-4415-9382-77b3cde81269')\"\n",
              "              title=\"Convert this dataframe to an interactive table.\"\n",
              "              style=\"display:none;\">\n",
              "        \n",
              "  <svg xmlns=\"http://www.w3.org/2000/svg\" height=\"24px\"viewBox=\"0 0 24 24\"\n",
              "       width=\"24px\">\n",
              "    <path d=\"M0 0h24v24H0V0z\" fill=\"none\"/>\n",
              "    <path d=\"M18.56 5.44l.94 2.06.94-2.06 2.06-.94-2.06-.94-.94-2.06-.94 2.06-2.06.94zm-11 1L8.5 8.5l.94-2.06 2.06-.94-2.06-.94L8.5 2.5l-.94 2.06-2.06.94zm10 10l.94 2.06.94-2.06 2.06-.94-2.06-.94-.94-2.06-.94 2.06-2.06.94z\"/><path d=\"M17.41 7.96l-1.37-1.37c-.4-.4-.92-.59-1.43-.59-.52 0-1.04.2-1.43.59L10.3 9.45l-7.72 7.72c-.78.78-.78 2.05 0 2.83L4 21.41c.39.39.9.59 1.41.59.51 0 1.02-.2 1.41-.59l7.78-7.78 2.81-2.81c.8-.78.8-2.07 0-2.86zM5.41 20L4 18.59l7.72-7.72 1.47 1.35L5.41 20z\"/>\n",
              "  </svg>\n",
              "      </button>\n",
              "      \n",
              "  <style>\n",
              "    .colab-df-container {\n",
              "      display:flex;\n",
              "      flex-wrap:wrap;\n",
              "      gap: 12px;\n",
              "    }\n",
              "\n",
              "    .colab-df-convert {\n",
              "      background-color: #E8F0FE;\n",
              "      border: none;\n",
              "      border-radius: 50%;\n",
              "      cursor: pointer;\n",
              "      display: none;\n",
              "      fill: #1967D2;\n",
              "      height: 32px;\n",
              "      padding: 0 0 0 0;\n",
              "      width: 32px;\n",
              "    }\n",
              "\n",
              "    .colab-df-convert:hover {\n",
              "      background-color: #E2EBFA;\n",
              "      box-shadow: 0px 1px 2px rgba(60, 64, 67, 0.3), 0px 1px 3px 1px rgba(60, 64, 67, 0.15);\n",
              "      fill: #174EA6;\n",
              "    }\n",
              "\n",
              "    [theme=dark] .colab-df-convert {\n",
              "      background-color: #3B4455;\n",
              "      fill: #D2E3FC;\n",
              "    }\n",
              "\n",
              "    [theme=dark] .colab-df-convert:hover {\n",
              "      background-color: #434B5C;\n",
              "      box-shadow: 0px 1px 3px 1px rgba(0, 0, 0, 0.15);\n",
              "      filter: drop-shadow(0px 1px 2px rgba(0, 0, 0, 0.3));\n",
              "      fill: #FFFFFF;\n",
              "    }\n",
              "  </style>\n",
              "\n",
              "      <script>\n",
              "        const buttonEl =\n",
              "          document.querySelector('#df-06cf9294-4ff2-4415-9382-77b3cde81269 button.colab-df-convert');\n",
              "        buttonEl.style.display =\n",
              "          google.colab.kernel.accessAllowed ? 'block' : 'none';\n",
              "\n",
              "        async function convertToInteractive(key) {\n",
              "          const element = document.querySelector('#df-06cf9294-4ff2-4415-9382-77b3cde81269');\n",
              "          const dataTable =\n",
              "            await google.colab.kernel.invokeFunction('convertToInteractive',\n",
              "                                                     [key], {});\n",
              "          if (!dataTable) return;\n",
              "\n",
              "          const docLinkHtml = 'Like what you see? Visit the ' +\n",
              "            '<a target=\"_blank\" href=https://colab.research.google.com/notebooks/data_table.ipynb>data table notebook</a>'\n",
              "            + ' to learn more about interactive tables.';\n",
              "          element.innerHTML = '';\n",
              "          dataTable['output_type'] = 'display_data';\n",
              "          await google.colab.output.renderOutput(dataTable, element);\n",
              "          const docLink = document.createElement('div');\n",
              "          docLink.innerHTML = docLinkHtml;\n",
              "          element.appendChild(docLink);\n",
              "        }\n",
              "      </script>\n",
              "    </div>\n",
              "  </div>\n",
              "  "
            ]
          },
          "metadata": {},
          "execution_count": 7
        }
      ]
    },
    {
      "cell_type": "code",
      "source": [
        "train['target'].value_counts()"
      ],
      "metadata": {
        "colab": {
          "base_uri": "https://localhost:8080/"
        },
        "id": "aK2qLxlDPVr6",
        "outputId": "870f36d5-dfc7-4298-8c72-4ff3e77d9b4f"
      },
      "execution_count": null,
      "outputs": [
        {
          "output_type": "execute_result",
          "data": {
            "text/plain": [
              "0    179902\n",
              "1     20098\n",
              "Name: target, dtype: int64"
            ]
          },
          "metadata": {},
          "execution_count": 8
        }
      ]
    },
    {
      "cell_type": "code",
      "source": [
        "20098/200000"
      ],
      "metadata": {
        "colab": {
          "base_uri": "https://localhost:8080/"
        },
        "id": "B5I5IWVTImzA",
        "outputId": "2842d952-feee-4e8b-c85c-2271d30121e3"
      },
      "execution_count": null,
      "outputs": [
        {
          "output_type": "execute_result",
          "data": {
            "text/plain": [
              "0.10049"
            ]
          },
          "metadata": {},
          "execution_count": 18
        }
      ]
    },
    {
      "cell_type": "code",
      "source": [
        "train_features = train.drop(['target', 'ID_code'], axis=1)\n",
        "train_targets = train['target']\n",
        "test_features = test.drop(['ID_code'], axis=1)"
      ],
      "metadata": {
        "id": "7jZnRhbH2v0v"
      },
      "execution_count": null,
      "outputs": []
    },
    {
      "cell_type": "code",
      "source": [
        "\n",
        "X_train, X_test, y_train, y_test = train_test_split(train_features, train_targets, test_size = 0.20, random_state = 42)"
      ],
      "metadata": {
        "id": "nBSkkL3in1_H"
      },
      "execution_count": null,
      "outputs": []
    },
    {
      "cell_type": "code",
      "source": [
        "from tensorflow import keras\n",
        "from keras import models\n",
        "from keras import layers\n",
        "from keras.models import Sequential\n",
        "from keras.layers import Dense\n",
        "from keras.layers import Dropout\n",
        "from keras.wrappers.scikit_learn import KerasClassifier\n",
        "from keras import regularizers\n",
        "from sklearn.model_selection import cross_val_score\n",
        "from sklearn.preprocessing import LabelEncoder\n",
        "from sklearn.model_selection import StratifiedKFold\n",
        "from sklearn.preprocessing import StandardScaler\n",
        "from sklearn.preprocessing import MinMaxScaler\n",
        "from sklearn.pipeline import Pipeline\n",
        "from sklearn.impute import SimpleImputer"
      ],
      "metadata": {
        "id": "16bYoyN4oI34"
      },
      "execution_count": null,
      "outputs": []
    },
    {
      "cell_type": "code",
      "source": [
        "X_train.head()"
      ],
      "metadata": {
        "colab": {
          "base_uri": "https://localhost:8080/",
          "height": 300
        },
        "id": "3dGwtsfeoMRg",
        "outputId": "400b803b-2d49-4d2c-b818-da17f0be7bd1"
      },
      "execution_count": null,
      "outputs": [
        {
          "output_type": "execute_result",
          "data": {
            "text/plain": [
              "          var_0   var_1    var_2   var_3    var_4    var_5   var_6    var_7  \\\n",
              "153248  12.3039 -8.3899   9.1944  8.0649   9.0247  -1.9559  5.1565  21.1631   \n",
              "67802   15.4069  2.7820   9.2951  7.1997   8.5359  -4.5422  5.4210   9.9651   \n",
              "148889   9.6427 -4.6261   6.9610  5.4054  12.0859 -11.2917  4.5290  13.8605   \n",
              "103093   9.6881 -5.6696  11.2709  8.2812  13.9232 -16.1434  4.9664  20.1092   \n",
              "104681   7.1128 -2.0830  11.4807  8.3033  10.6180  -6.4743  5.0078  21.0212   \n",
              "\n",
              "         var_8   var_9  ...  var_190  var_191  var_192  var_193  var_194  \\\n",
              "153248  2.7437  8.5623  ...   5.5185   7.9504   0.9184   5.9945  11.0078   \n",
              "67802   4.0623  8.4689  ...   3.0063   5.6555   2.1527   1.3518  15.4728   \n",
              "148889 -0.8366  8.4388  ...   3.4351   9.1779   1.5004   1.9895  20.4072   \n",
              "103093 -5.9868  8.4514  ...  -4.9494   9.2727   1.1371   3.7435  20.6906   \n",
              "104681 -4.9779  9.1260  ...   7.3583   8.1992   1.3436   8.8929  21.6711   \n",
              "\n",
              "        var_195  var_196  var_197  var_198  var_199  \n",
              "153248  -1.0936  -2.3412   8.1712  12.9046  -1.9309  \n",
              "67802    0.2686   6.5523   8.4698  22.0454   1.4756  \n",
              "148889  -0.1118   0.5692   9.3290  12.8980  -9.4318  \n",
              "103093   1.3752   7.4442   9.2145  18.2777  -2.5865  \n",
              "104681  -2.0557   6.4975   8.3110  13.7728  -5.9028  \n",
              "\n",
              "[5 rows x 200 columns]"
            ],
            "text/html": [
              "\n",
              "  <div id=\"df-37b982ed-605e-40be-b08f-a5d4b7f76c56\">\n",
              "    <div class=\"colab-df-container\">\n",
              "      <div>\n",
              "<style scoped>\n",
              "    .dataframe tbody tr th:only-of-type {\n",
              "        vertical-align: middle;\n",
              "    }\n",
              "\n",
              "    .dataframe tbody tr th {\n",
              "        vertical-align: top;\n",
              "    }\n",
              "\n",
              "    .dataframe thead th {\n",
              "        text-align: right;\n",
              "    }\n",
              "</style>\n",
              "<table border=\"1\" class=\"dataframe\">\n",
              "  <thead>\n",
              "    <tr style=\"text-align: right;\">\n",
              "      <th></th>\n",
              "      <th>var_0</th>\n",
              "      <th>var_1</th>\n",
              "      <th>var_2</th>\n",
              "      <th>var_3</th>\n",
              "      <th>var_4</th>\n",
              "      <th>var_5</th>\n",
              "      <th>var_6</th>\n",
              "      <th>var_7</th>\n",
              "      <th>var_8</th>\n",
              "      <th>var_9</th>\n",
              "      <th>...</th>\n",
              "      <th>var_190</th>\n",
              "      <th>var_191</th>\n",
              "      <th>var_192</th>\n",
              "      <th>var_193</th>\n",
              "      <th>var_194</th>\n",
              "      <th>var_195</th>\n",
              "      <th>var_196</th>\n",
              "      <th>var_197</th>\n",
              "      <th>var_198</th>\n",
              "      <th>var_199</th>\n",
              "    </tr>\n",
              "  </thead>\n",
              "  <tbody>\n",
              "    <tr>\n",
              "      <th>153248</th>\n",
              "      <td>12.3039</td>\n",
              "      <td>-8.3899</td>\n",
              "      <td>9.1944</td>\n",
              "      <td>8.0649</td>\n",
              "      <td>9.0247</td>\n",
              "      <td>-1.9559</td>\n",
              "      <td>5.1565</td>\n",
              "      <td>21.1631</td>\n",
              "      <td>2.7437</td>\n",
              "      <td>8.5623</td>\n",
              "      <td>...</td>\n",
              "      <td>5.5185</td>\n",
              "      <td>7.9504</td>\n",
              "      <td>0.9184</td>\n",
              "      <td>5.9945</td>\n",
              "      <td>11.0078</td>\n",
              "      <td>-1.0936</td>\n",
              "      <td>-2.3412</td>\n",
              "      <td>8.1712</td>\n",
              "      <td>12.9046</td>\n",
              "      <td>-1.9309</td>\n",
              "    </tr>\n",
              "    <tr>\n",
              "      <th>67802</th>\n",
              "      <td>15.4069</td>\n",
              "      <td>2.7820</td>\n",
              "      <td>9.2951</td>\n",
              "      <td>7.1997</td>\n",
              "      <td>8.5359</td>\n",
              "      <td>-4.5422</td>\n",
              "      <td>5.4210</td>\n",
              "      <td>9.9651</td>\n",
              "      <td>4.0623</td>\n",
              "      <td>8.4689</td>\n",
              "      <td>...</td>\n",
              "      <td>3.0063</td>\n",
              "      <td>5.6555</td>\n",
              "      <td>2.1527</td>\n",
              "      <td>1.3518</td>\n",
              "      <td>15.4728</td>\n",
              "      <td>0.2686</td>\n",
              "      <td>6.5523</td>\n",
              "      <td>8.4698</td>\n",
              "      <td>22.0454</td>\n",
              "      <td>1.4756</td>\n",
              "    </tr>\n",
              "    <tr>\n",
              "      <th>148889</th>\n",
              "      <td>9.6427</td>\n",
              "      <td>-4.6261</td>\n",
              "      <td>6.9610</td>\n",
              "      <td>5.4054</td>\n",
              "      <td>12.0859</td>\n",
              "      <td>-11.2917</td>\n",
              "      <td>4.5290</td>\n",
              "      <td>13.8605</td>\n",
              "      <td>-0.8366</td>\n",
              "      <td>8.4388</td>\n",
              "      <td>...</td>\n",
              "      <td>3.4351</td>\n",
              "      <td>9.1779</td>\n",
              "      <td>1.5004</td>\n",
              "      <td>1.9895</td>\n",
              "      <td>20.4072</td>\n",
              "      <td>-0.1118</td>\n",
              "      <td>0.5692</td>\n",
              "      <td>9.3290</td>\n",
              "      <td>12.8980</td>\n",
              "      <td>-9.4318</td>\n",
              "    </tr>\n",
              "    <tr>\n",
              "      <th>103093</th>\n",
              "      <td>9.6881</td>\n",
              "      <td>-5.6696</td>\n",
              "      <td>11.2709</td>\n",
              "      <td>8.2812</td>\n",
              "      <td>13.9232</td>\n",
              "      <td>-16.1434</td>\n",
              "      <td>4.9664</td>\n",
              "      <td>20.1092</td>\n",
              "      <td>-5.9868</td>\n",
              "      <td>8.4514</td>\n",
              "      <td>...</td>\n",
              "      <td>-4.9494</td>\n",
              "      <td>9.2727</td>\n",
              "      <td>1.1371</td>\n",
              "      <td>3.7435</td>\n",
              "      <td>20.6906</td>\n",
              "      <td>1.3752</td>\n",
              "      <td>7.4442</td>\n",
              "      <td>9.2145</td>\n",
              "      <td>18.2777</td>\n",
              "      <td>-2.5865</td>\n",
              "    </tr>\n",
              "    <tr>\n",
              "      <th>104681</th>\n",
              "      <td>7.1128</td>\n",
              "      <td>-2.0830</td>\n",
              "      <td>11.4807</td>\n",
              "      <td>8.3033</td>\n",
              "      <td>10.6180</td>\n",
              "      <td>-6.4743</td>\n",
              "      <td>5.0078</td>\n",
              "      <td>21.0212</td>\n",
              "      <td>-4.9779</td>\n",
              "      <td>9.1260</td>\n",
              "      <td>...</td>\n",
              "      <td>7.3583</td>\n",
              "      <td>8.1992</td>\n",
              "      <td>1.3436</td>\n",
              "      <td>8.8929</td>\n",
              "      <td>21.6711</td>\n",
              "      <td>-2.0557</td>\n",
              "      <td>6.4975</td>\n",
              "      <td>8.3110</td>\n",
              "      <td>13.7728</td>\n",
              "      <td>-5.9028</td>\n",
              "    </tr>\n",
              "  </tbody>\n",
              "</table>\n",
              "<p>5 rows × 200 columns</p>\n",
              "</div>\n",
              "      <button class=\"colab-df-convert\" onclick=\"convertToInteractive('df-37b982ed-605e-40be-b08f-a5d4b7f76c56')\"\n",
              "              title=\"Convert this dataframe to an interactive table.\"\n",
              "              style=\"display:none;\">\n",
              "        \n",
              "  <svg xmlns=\"http://www.w3.org/2000/svg\" height=\"24px\"viewBox=\"0 0 24 24\"\n",
              "       width=\"24px\">\n",
              "    <path d=\"M0 0h24v24H0V0z\" fill=\"none\"/>\n",
              "    <path d=\"M18.56 5.44l.94 2.06.94-2.06 2.06-.94-2.06-.94-.94-2.06-.94 2.06-2.06.94zm-11 1L8.5 8.5l.94-2.06 2.06-.94-2.06-.94L8.5 2.5l-.94 2.06-2.06.94zm10 10l.94 2.06.94-2.06 2.06-.94-2.06-.94-.94-2.06-.94 2.06-2.06.94z\"/><path d=\"M17.41 7.96l-1.37-1.37c-.4-.4-.92-.59-1.43-.59-.52 0-1.04.2-1.43.59L10.3 9.45l-7.72 7.72c-.78.78-.78 2.05 0 2.83L4 21.41c.39.39.9.59 1.41.59.51 0 1.02-.2 1.41-.59l7.78-7.78 2.81-2.81c.8-.78.8-2.07 0-2.86zM5.41 20L4 18.59l7.72-7.72 1.47 1.35L5.41 20z\"/>\n",
              "  </svg>\n",
              "      </button>\n",
              "      \n",
              "  <style>\n",
              "    .colab-df-container {\n",
              "      display:flex;\n",
              "      flex-wrap:wrap;\n",
              "      gap: 12px;\n",
              "    }\n",
              "\n",
              "    .colab-df-convert {\n",
              "      background-color: #E8F0FE;\n",
              "      border: none;\n",
              "      border-radius: 50%;\n",
              "      cursor: pointer;\n",
              "      display: none;\n",
              "      fill: #1967D2;\n",
              "      height: 32px;\n",
              "      padding: 0 0 0 0;\n",
              "      width: 32px;\n",
              "    }\n",
              "\n",
              "    .colab-df-convert:hover {\n",
              "      background-color: #E2EBFA;\n",
              "      box-shadow: 0px 1px 2px rgba(60, 64, 67, 0.3), 0px 1px 3px 1px rgba(60, 64, 67, 0.15);\n",
              "      fill: #174EA6;\n",
              "    }\n",
              "\n",
              "    [theme=dark] .colab-df-convert {\n",
              "      background-color: #3B4455;\n",
              "      fill: #D2E3FC;\n",
              "    }\n",
              "\n",
              "    [theme=dark] .colab-df-convert:hover {\n",
              "      background-color: #434B5C;\n",
              "      box-shadow: 0px 1px 3px 1px rgba(0, 0, 0, 0.15);\n",
              "      filter: drop-shadow(0px 1px 2px rgba(0, 0, 0, 0.3));\n",
              "      fill: #FFFFFF;\n",
              "    }\n",
              "  </style>\n",
              "\n",
              "      <script>\n",
              "        const buttonEl =\n",
              "          document.querySelector('#df-37b982ed-605e-40be-b08f-a5d4b7f76c56 button.colab-df-convert');\n",
              "        buttonEl.style.display =\n",
              "          google.colab.kernel.accessAllowed ? 'block' : 'none';\n",
              "\n",
              "        async function convertToInteractive(key) {\n",
              "          const element = document.querySelector('#df-37b982ed-605e-40be-b08f-a5d4b7f76c56');\n",
              "          const dataTable =\n",
              "            await google.colab.kernel.invokeFunction('convertToInteractive',\n",
              "                                                     [key], {});\n",
              "          if (!dataTable) return;\n",
              "\n",
              "          const docLinkHtml = 'Like what you see? Visit the ' +\n",
              "            '<a target=\"_blank\" href=https://colab.research.google.com/notebooks/data_table.ipynb>data table notebook</a>'\n",
              "            + ' to learn more about interactive tables.';\n",
              "          element.innerHTML = '';\n",
              "          dataTable['output_type'] = 'display_data';\n",
              "          await google.colab.output.renderOutput(dataTable, element);\n",
              "          const docLink = document.createElement('div');\n",
              "          docLink.innerHTML = docLinkHtml;\n",
              "          element.appendChild(docLink);\n",
              "        }\n",
              "      </script>\n",
              "    </div>\n",
              "  </div>\n",
              "  "
            ]
          },
          "metadata": {},
          "execution_count": 12
        }
      ]
    },
    {
      "cell_type": "code",
      "source": [
        "y_train.head()\n"
      ],
      "metadata": {
        "colab": {
          "base_uri": "https://localhost:8080/"
        },
        "id": "zG33o_GILY3u",
        "outputId": "b27048c4-4c21-4c0e-fb08-feca6d281d55"
      },
      "execution_count": null,
      "outputs": [
        {
          "output_type": "execute_result",
          "data": {
            "text/plain": [
              "153248    0\n",
              "67802     0\n",
              "148889    0\n",
              "103093    1\n",
              "104681    0\n",
              "Name: target, dtype: int64"
            ]
          },
          "metadata": {},
          "execution_count": 19
        }
      ]
    },
    {
      "cell_type": "code",
      "source": [
        "#Upsample Minority Class\n"
      ],
      "metadata": {
        "id": "71LPEl2FKt6V"
      },
      "execution_count": null,
      "outputs": []
    },
    {
      "cell_type": "code",
      "source": [
        "df = pd.concat([X_train, y_train], axis=1, join=\"inner\")"
      ],
      "metadata": {
        "id": "8NfmGEeFQGVv"
      },
      "execution_count": null,
      "outputs": []
    },
    {
      "cell_type": "code",
      "source": [
        "df.head()"
      ],
      "metadata": {
        "colab": {
          "base_uri": "https://localhost:8080/",
          "height": 300
        },
        "id": "FWW2m0jwQe-x",
        "outputId": "7dff0109-5ae4-4b45-b554-7a797a1e3a47"
      },
      "execution_count": null,
      "outputs": [
        {
          "output_type": "execute_result",
          "data": {
            "text/plain": [
              "           var_0     var_1     var_2     var_3     var_4     var_5     var_6  \\\n",
              "153248  0.596666  0.261741  0.428019  0.612700  0.340608  0.614417  0.467553   \n",
              "67802   0.752892  0.701230  0.434109  0.547296  0.298458  0.562498  0.511576   \n",
              "148889  0.462683  0.409804  0.292948  0.411657  0.604582  0.427005  0.363114   \n",
              "103093  0.464969  0.368754  0.553601  0.629051  0.763017  0.329609  0.435914   \n",
              "104681  0.335310  0.509847  0.566290  0.630722  0.478002  0.523712  0.442804   \n",
              "\n",
              "           var_7     var_8     var_9  ...   var_191   var_192   var_193  \\\n",
              "153248  0.707785  0.641397  0.639518  ...  0.549233  0.387406  0.591312   \n",
              "67802   0.206579  0.705230  0.626509  ...  0.430794  0.488438  0.436890   \n",
              "148889  0.380931  0.468073  0.622317  ...  0.612583  0.435045  0.458101   \n",
              "103093  0.660614  0.218751  0.624072  ...  0.617476  0.405307  0.516441   \n",
              "104681  0.701434  0.267592  0.718026  ...  0.562073  0.422210  0.687715   \n",
              "\n",
              "         var_194   var_195   var_196   var_197   var_198   var_199  target  \n",
              "153248  0.120274  0.437114  0.364832  0.356740  0.325091  0.556163       0  \n",
              "67802   0.352410  0.579993  0.638217  0.406901  0.793360  0.607476       0  \n",
              "148889  0.608951  0.540094  0.454298  0.551236  0.324753  0.443175       0  \n",
              "103093  0.623685  0.696064  0.665634  0.532002  0.600346  0.546288       1  \n",
              "104681  0.674661  0.336200  0.636532  0.380224  0.369567  0.496334       0  \n",
              "\n",
              "[5 rows x 201 columns]"
            ],
            "text/html": [
              "\n",
              "  <div id=\"df-81746c8e-067b-4901-aa47-0cd62711501f\">\n",
              "    <div class=\"colab-df-container\">\n",
              "      <div>\n",
              "<style scoped>\n",
              "    .dataframe tbody tr th:only-of-type {\n",
              "        vertical-align: middle;\n",
              "    }\n",
              "\n",
              "    .dataframe tbody tr th {\n",
              "        vertical-align: top;\n",
              "    }\n",
              "\n",
              "    .dataframe thead th {\n",
              "        text-align: right;\n",
              "    }\n",
              "</style>\n",
              "<table border=\"1\" class=\"dataframe\">\n",
              "  <thead>\n",
              "    <tr style=\"text-align: right;\">\n",
              "      <th></th>\n",
              "      <th>var_0</th>\n",
              "      <th>var_1</th>\n",
              "      <th>var_2</th>\n",
              "      <th>var_3</th>\n",
              "      <th>var_4</th>\n",
              "      <th>var_5</th>\n",
              "      <th>var_6</th>\n",
              "      <th>var_7</th>\n",
              "      <th>var_8</th>\n",
              "      <th>var_9</th>\n",
              "      <th>...</th>\n",
              "      <th>var_191</th>\n",
              "      <th>var_192</th>\n",
              "      <th>var_193</th>\n",
              "      <th>var_194</th>\n",
              "      <th>var_195</th>\n",
              "      <th>var_196</th>\n",
              "      <th>var_197</th>\n",
              "      <th>var_198</th>\n",
              "      <th>var_199</th>\n",
              "      <th>target</th>\n",
              "    </tr>\n",
              "  </thead>\n",
              "  <tbody>\n",
              "    <tr>\n",
              "      <th>153248</th>\n",
              "      <td>0.596666</td>\n",
              "      <td>0.261741</td>\n",
              "      <td>0.428019</td>\n",
              "      <td>0.612700</td>\n",
              "      <td>0.340608</td>\n",
              "      <td>0.614417</td>\n",
              "      <td>0.467553</td>\n",
              "      <td>0.707785</td>\n",
              "      <td>0.641397</td>\n",
              "      <td>0.639518</td>\n",
              "      <td>...</td>\n",
              "      <td>0.549233</td>\n",
              "      <td>0.387406</td>\n",
              "      <td>0.591312</td>\n",
              "      <td>0.120274</td>\n",
              "      <td>0.437114</td>\n",
              "      <td>0.364832</td>\n",
              "      <td>0.356740</td>\n",
              "      <td>0.325091</td>\n",
              "      <td>0.556163</td>\n",
              "      <td>0</td>\n",
              "    </tr>\n",
              "    <tr>\n",
              "      <th>67802</th>\n",
              "      <td>0.752892</td>\n",
              "      <td>0.701230</td>\n",
              "      <td>0.434109</td>\n",
              "      <td>0.547296</td>\n",
              "      <td>0.298458</td>\n",
              "      <td>0.562498</td>\n",
              "      <td>0.511576</td>\n",
              "      <td>0.206579</td>\n",
              "      <td>0.705230</td>\n",
              "      <td>0.626509</td>\n",
              "      <td>...</td>\n",
              "      <td>0.430794</td>\n",
              "      <td>0.488438</td>\n",
              "      <td>0.436890</td>\n",
              "      <td>0.352410</td>\n",
              "      <td>0.579993</td>\n",
              "      <td>0.638217</td>\n",
              "      <td>0.406901</td>\n",
              "      <td>0.793360</td>\n",
              "      <td>0.607476</td>\n",
              "      <td>0</td>\n",
              "    </tr>\n",
              "    <tr>\n",
              "      <th>148889</th>\n",
              "      <td>0.462683</td>\n",
              "      <td>0.409804</td>\n",
              "      <td>0.292948</td>\n",
              "      <td>0.411657</td>\n",
              "      <td>0.604582</td>\n",
              "      <td>0.427005</td>\n",
              "      <td>0.363114</td>\n",
              "      <td>0.380931</td>\n",
              "      <td>0.468073</td>\n",
              "      <td>0.622317</td>\n",
              "      <td>...</td>\n",
              "      <td>0.612583</td>\n",
              "      <td>0.435045</td>\n",
              "      <td>0.458101</td>\n",
              "      <td>0.608951</td>\n",
              "      <td>0.540094</td>\n",
              "      <td>0.454298</td>\n",
              "      <td>0.551236</td>\n",
              "      <td>0.324753</td>\n",
              "      <td>0.443175</td>\n",
              "      <td>0</td>\n",
              "    </tr>\n",
              "    <tr>\n",
              "      <th>103093</th>\n",
              "      <td>0.464969</td>\n",
              "      <td>0.368754</td>\n",
              "      <td>0.553601</td>\n",
              "      <td>0.629051</td>\n",
              "      <td>0.763017</td>\n",
              "      <td>0.329609</td>\n",
              "      <td>0.435914</td>\n",
              "      <td>0.660614</td>\n",
              "      <td>0.218751</td>\n",
              "      <td>0.624072</td>\n",
              "      <td>...</td>\n",
              "      <td>0.617476</td>\n",
              "      <td>0.405307</td>\n",
              "      <td>0.516441</td>\n",
              "      <td>0.623685</td>\n",
              "      <td>0.696064</td>\n",
              "      <td>0.665634</td>\n",
              "      <td>0.532002</td>\n",
              "      <td>0.600346</td>\n",
              "      <td>0.546288</td>\n",
              "      <td>1</td>\n",
              "    </tr>\n",
              "    <tr>\n",
              "      <th>104681</th>\n",
              "      <td>0.335310</td>\n",
              "      <td>0.509847</td>\n",
              "      <td>0.566290</td>\n",
              "      <td>0.630722</td>\n",
              "      <td>0.478002</td>\n",
              "      <td>0.523712</td>\n",
              "      <td>0.442804</td>\n",
              "      <td>0.701434</td>\n",
              "      <td>0.267592</td>\n",
              "      <td>0.718026</td>\n",
              "      <td>...</td>\n",
              "      <td>0.562073</td>\n",
              "      <td>0.422210</td>\n",
              "      <td>0.687715</td>\n",
              "      <td>0.674661</td>\n",
              "      <td>0.336200</td>\n",
              "      <td>0.636532</td>\n",
              "      <td>0.380224</td>\n",
              "      <td>0.369567</td>\n",
              "      <td>0.496334</td>\n",
              "      <td>0</td>\n",
              "    </tr>\n",
              "  </tbody>\n",
              "</table>\n",
              "<p>5 rows × 201 columns</p>\n",
              "</div>\n",
              "      <button class=\"colab-df-convert\" onclick=\"convertToInteractive('df-81746c8e-067b-4901-aa47-0cd62711501f')\"\n",
              "              title=\"Convert this dataframe to an interactive table.\"\n",
              "              style=\"display:none;\">\n",
              "        \n",
              "  <svg xmlns=\"http://www.w3.org/2000/svg\" height=\"24px\"viewBox=\"0 0 24 24\"\n",
              "       width=\"24px\">\n",
              "    <path d=\"M0 0h24v24H0V0z\" fill=\"none\"/>\n",
              "    <path d=\"M18.56 5.44l.94 2.06.94-2.06 2.06-.94-2.06-.94-.94-2.06-.94 2.06-2.06.94zm-11 1L8.5 8.5l.94-2.06 2.06-.94-2.06-.94L8.5 2.5l-.94 2.06-2.06.94zm10 10l.94 2.06.94-2.06 2.06-.94-2.06-.94-.94-2.06-.94 2.06-2.06.94z\"/><path d=\"M17.41 7.96l-1.37-1.37c-.4-.4-.92-.59-1.43-.59-.52 0-1.04.2-1.43.59L10.3 9.45l-7.72 7.72c-.78.78-.78 2.05 0 2.83L4 21.41c.39.39.9.59 1.41.59.51 0 1.02-.2 1.41-.59l7.78-7.78 2.81-2.81c.8-.78.8-2.07 0-2.86zM5.41 20L4 18.59l7.72-7.72 1.47 1.35L5.41 20z\"/>\n",
              "  </svg>\n",
              "      </button>\n",
              "      \n",
              "  <style>\n",
              "    .colab-df-container {\n",
              "      display:flex;\n",
              "      flex-wrap:wrap;\n",
              "      gap: 12px;\n",
              "    }\n",
              "\n",
              "    .colab-df-convert {\n",
              "      background-color: #E8F0FE;\n",
              "      border: none;\n",
              "      border-radius: 50%;\n",
              "      cursor: pointer;\n",
              "      display: none;\n",
              "      fill: #1967D2;\n",
              "      height: 32px;\n",
              "      padding: 0 0 0 0;\n",
              "      width: 32px;\n",
              "    }\n",
              "\n",
              "    .colab-df-convert:hover {\n",
              "      background-color: #E2EBFA;\n",
              "      box-shadow: 0px 1px 2px rgba(60, 64, 67, 0.3), 0px 1px 3px 1px rgba(60, 64, 67, 0.15);\n",
              "      fill: #174EA6;\n",
              "    }\n",
              "\n",
              "    [theme=dark] .colab-df-convert {\n",
              "      background-color: #3B4455;\n",
              "      fill: #D2E3FC;\n",
              "    }\n",
              "\n",
              "    [theme=dark] .colab-df-convert:hover {\n",
              "      background-color: #434B5C;\n",
              "      box-shadow: 0px 1px 3px 1px rgba(0, 0, 0, 0.15);\n",
              "      filter: drop-shadow(0px 1px 2px rgba(0, 0, 0, 0.3));\n",
              "      fill: #FFFFFF;\n",
              "    }\n",
              "  </style>\n",
              "\n",
              "      <script>\n",
              "        const buttonEl =\n",
              "          document.querySelector('#df-81746c8e-067b-4901-aa47-0cd62711501f button.colab-df-convert');\n",
              "        buttonEl.style.display =\n",
              "          google.colab.kernel.accessAllowed ? 'block' : 'none';\n",
              "\n",
              "        async function convertToInteractive(key) {\n",
              "          const element = document.querySelector('#df-81746c8e-067b-4901-aa47-0cd62711501f');\n",
              "          const dataTable =\n",
              "            await google.colab.kernel.invokeFunction('convertToInteractive',\n",
              "                                                     [key], {});\n",
              "          if (!dataTable) return;\n",
              "\n",
              "          const docLinkHtml = 'Like what you see? Visit the ' +\n",
              "            '<a target=\"_blank\" href=https://colab.research.google.com/notebooks/data_table.ipynb>data table notebook</a>'\n",
              "            + ' to learn more about interactive tables.';\n",
              "          element.innerHTML = '';\n",
              "          dataTable['output_type'] = 'display_data';\n",
              "          await google.colab.output.renderOutput(dataTable, element);\n",
              "          const docLink = document.createElement('div');\n",
              "          docLink.innerHTML = docLinkHtml;\n",
              "          element.appendChild(docLink);\n",
              "        }\n",
              "      </script>\n",
              "    </div>\n",
              "  </div>\n",
              "  "
            ]
          },
          "metadata": {},
          "execution_count": 22
        }
      ]
    },
    {
      "cell_type": "code",
      "source": [
        "df.target.value_counts()"
      ],
      "metadata": {
        "colab": {
          "base_uri": "https://localhost:8080/"
        },
        "id": "qCJTiQtCQnjK",
        "outputId": "be2aa795-5715-4cf0-8773-a1e4897f34f0"
      },
      "execution_count": null,
      "outputs": [
        {
          "output_type": "execute_result",
          "data": {
            "text/plain": [
              "0    143999\n",
              "1     16001\n",
              "Name: target, dtype: int64"
            ]
          },
          "metadata": {},
          "execution_count": 23
        }
      ]
    },
    {
      "cell_type": "code",
      "source": [
        "#Downsample Majority Class (Simple)\t\n",
        "from sklearn.utils import resample\n",
        "df_majority = df[df.target==0]\n",
        "df_minority = df[df.target==1]\n",
        "\n",
        "\n",
        "df_majority_downsampled = resample(df_majority, \n",
        "                                 replace=False,    # sample without replacement\n",
        "                                 n_samples=len(df_minority),     # to match minority class\n",
        "                                 random_state=42) \n",
        " \n",
        "# Combine minority class with downsampled majority class\n",
        "df_downsampled = pd.concat([df_majority_downsampled, df_minority])\n",
        " \n",
        "# Display new class counts\n",
        "df_downsampled.target.value_counts()"
      ],
      "metadata": {
        "colab": {
          "base_uri": "https://localhost:8080/"
        },
        "id": "ab80E9NsKpF_",
        "outputId": "40aa8e7c-4e43-4c0d-a32d-33367522bbb4"
      },
      "execution_count": null,
      "outputs": [
        {
          "output_type": "execute_result",
          "data": {
            "text/plain": [
              "0    16001\n",
              "1    16001\n",
              "Name: target, dtype: int64"
            ]
          },
          "metadata": {},
          "execution_count": 26
        }
      ]
    },
    {
      "cell_type": "code",
      "source": [
        "X_train = df_downsampled.drop(['target'], axis = 1)\n",
        "y_train = df_downsampled['target']"
      ],
      "metadata": {
        "id": "Y4Jfd6eiRDaW"
      },
      "execution_count": null,
      "outputs": []
    },
    {
      "cell_type": "code",
      "source": [
        "min_max_scaler = MinMaxScaler()\n",
        "X_train[X_train.columns] = min_max_scaler.fit_transform(X_train[X_train.columns])"
      ],
      "metadata": {
        "id": "M6nI-yaxRpP9"
      },
      "execution_count": null,
      "outputs": []
    },
    {
      "cell_type": "code",
      "source": [
        "X_test[X_test.columns] = min_max_scaler.transform(X_test[X_test.columns])"
      ],
      "metadata": {
        "id": "wZEMptUwWPkZ"
      },
      "execution_count": null,
      "outputs": []
    },
    {
      "cell_type": "code",
      "source": [
        "test_features[train_features.columns] = min_max_scaler.transform(test_features[test_features.columns])"
      ],
      "metadata": {
        "id": "zfdOL2BtX4bj"
      },
      "execution_count": null,
      "outputs": []
    },
    {
      "cell_type": "code",
      "source": [
        "X_train.head()"
      ],
      "metadata": {
        "colab": {
          "base_uri": "https://localhost:8080/",
          "height": 300
        },
        "id": "R5480ZXITDar",
        "outputId": "75256187-ecf8-466c-f36c-e31be6c9fb23"
      },
      "execution_count": null,
      "outputs": [
        {
          "output_type": "execute_result",
          "data": {
            "text/plain": [
              "           var_0     var_1     var_2     var_3     var_4     var_5     var_6  \\\n",
              "153248  0.596666  0.261741  0.428019  0.612700  0.340608  0.614417  0.467553   \n",
              "67802   0.752892  0.701230  0.434109  0.547296  0.298458  0.562498  0.511576   \n",
              "148889  0.462683  0.409804  0.292948  0.411657  0.604582  0.427005  0.363114   \n",
              "103093  0.464969  0.368754  0.553601  0.629051  0.763017  0.329609  0.435914   \n",
              "104681  0.335310  0.509847  0.566290  0.630722  0.478002  0.523712  0.442804   \n",
              "\n",
              "           var_7     var_8     var_9  ...   var_190   var_191   var_192  \\\n",
              "153248  0.707785  0.641397  0.639518  ...  0.602806  0.549233  0.387406   \n",
              "67802   0.206579  0.705230  0.626509  ...  0.525588  0.430794  0.488438   \n",
              "148889  0.380931  0.468073  0.622317  ...  0.538768  0.612583  0.435045   \n",
              "103093  0.660614  0.218751  0.624072  ...  0.281055  0.617476  0.405307   \n",
              "104681  0.701434  0.267592  0.718026  ...  0.659355  0.562073  0.422210   \n",
              "\n",
              "         var_193   var_194   var_195   var_196   var_197   var_198   var_199  \n",
              "153248  0.591312  0.120274  0.437114  0.364832  0.356740  0.325091  0.556163  \n",
              "67802   0.436890  0.352410  0.579993  0.638217  0.406901  0.793360  0.607476  \n",
              "148889  0.458101  0.608951  0.540094  0.454298  0.551236  0.324753  0.443175  \n",
              "103093  0.516441  0.623685  0.696064  0.665634  0.532002  0.600346  0.546288  \n",
              "104681  0.687715  0.674661  0.336200  0.636532  0.380224  0.369567  0.496334  \n",
              "\n",
              "[5 rows x 200 columns]"
            ],
            "text/html": [
              "\n",
              "  <div id=\"df-57f5dfe0-a00d-4cd4-aebc-3ff23f18a12b\">\n",
              "    <div class=\"colab-df-container\">\n",
              "      <div>\n",
              "<style scoped>\n",
              "    .dataframe tbody tr th:only-of-type {\n",
              "        vertical-align: middle;\n",
              "    }\n",
              "\n",
              "    .dataframe tbody tr th {\n",
              "        vertical-align: top;\n",
              "    }\n",
              "\n",
              "    .dataframe thead th {\n",
              "        text-align: right;\n",
              "    }\n",
              "</style>\n",
              "<table border=\"1\" class=\"dataframe\">\n",
              "  <thead>\n",
              "    <tr style=\"text-align: right;\">\n",
              "      <th></th>\n",
              "      <th>var_0</th>\n",
              "      <th>var_1</th>\n",
              "      <th>var_2</th>\n",
              "      <th>var_3</th>\n",
              "      <th>var_4</th>\n",
              "      <th>var_5</th>\n",
              "      <th>var_6</th>\n",
              "      <th>var_7</th>\n",
              "      <th>var_8</th>\n",
              "      <th>var_9</th>\n",
              "      <th>...</th>\n",
              "      <th>var_190</th>\n",
              "      <th>var_191</th>\n",
              "      <th>var_192</th>\n",
              "      <th>var_193</th>\n",
              "      <th>var_194</th>\n",
              "      <th>var_195</th>\n",
              "      <th>var_196</th>\n",
              "      <th>var_197</th>\n",
              "      <th>var_198</th>\n",
              "      <th>var_199</th>\n",
              "    </tr>\n",
              "  </thead>\n",
              "  <tbody>\n",
              "    <tr>\n",
              "      <th>153248</th>\n",
              "      <td>0.596666</td>\n",
              "      <td>0.261741</td>\n",
              "      <td>0.428019</td>\n",
              "      <td>0.612700</td>\n",
              "      <td>0.340608</td>\n",
              "      <td>0.614417</td>\n",
              "      <td>0.467553</td>\n",
              "      <td>0.707785</td>\n",
              "      <td>0.641397</td>\n",
              "      <td>0.639518</td>\n",
              "      <td>...</td>\n",
              "      <td>0.602806</td>\n",
              "      <td>0.549233</td>\n",
              "      <td>0.387406</td>\n",
              "      <td>0.591312</td>\n",
              "      <td>0.120274</td>\n",
              "      <td>0.437114</td>\n",
              "      <td>0.364832</td>\n",
              "      <td>0.356740</td>\n",
              "      <td>0.325091</td>\n",
              "      <td>0.556163</td>\n",
              "    </tr>\n",
              "    <tr>\n",
              "      <th>67802</th>\n",
              "      <td>0.752892</td>\n",
              "      <td>0.701230</td>\n",
              "      <td>0.434109</td>\n",
              "      <td>0.547296</td>\n",
              "      <td>0.298458</td>\n",
              "      <td>0.562498</td>\n",
              "      <td>0.511576</td>\n",
              "      <td>0.206579</td>\n",
              "      <td>0.705230</td>\n",
              "      <td>0.626509</td>\n",
              "      <td>...</td>\n",
              "      <td>0.525588</td>\n",
              "      <td>0.430794</td>\n",
              "      <td>0.488438</td>\n",
              "      <td>0.436890</td>\n",
              "      <td>0.352410</td>\n",
              "      <td>0.579993</td>\n",
              "      <td>0.638217</td>\n",
              "      <td>0.406901</td>\n",
              "      <td>0.793360</td>\n",
              "      <td>0.607476</td>\n",
              "    </tr>\n",
              "    <tr>\n",
              "      <th>148889</th>\n",
              "      <td>0.462683</td>\n",
              "      <td>0.409804</td>\n",
              "      <td>0.292948</td>\n",
              "      <td>0.411657</td>\n",
              "      <td>0.604582</td>\n",
              "      <td>0.427005</td>\n",
              "      <td>0.363114</td>\n",
              "      <td>0.380931</td>\n",
              "      <td>0.468073</td>\n",
              "      <td>0.622317</td>\n",
              "      <td>...</td>\n",
              "      <td>0.538768</td>\n",
              "      <td>0.612583</td>\n",
              "      <td>0.435045</td>\n",
              "      <td>0.458101</td>\n",
              "      <td>0.608951</td>\n",
              "      <td>0.540094</td>\n",
              "      <td>0.454298</td>\n",
              "      <td>0.551236</td>\n",
              "      <td>0.324753</td>\n",
              "      <td>0.443175</td>\n",
              "    </tr>\n",
              "    <tr>\n",
              "      <th>103093</th>\n",
              "      <td>0.464969</td>\n",
              "      <td>0.368754</td>\n",
              "      <td>0.553601</td>\n",
              "      <td>0.629051</td>\n",
              "      <td>0.763017</td>\n",
              "      <td>0.329609</td>\n",
              "      <td>0.435914</td>\n",
              "      <td>0.660614</td>\n",
              "      <td>0.218751</td>\n",
              "      <td>0.624072</td>\n",
              "      <td>...</td>\n",
              "      <td>0.281055</td>\n",
              "      <td>0.617476</td>\n",
              "      <td>0.405307</td>\n",
              "      <td>0.516441</td>\n",
              "      <td>0.623685</td>\n",
              "      <td>0.696064</td>\n",
              "      <td>0.665634</td>\n",
              "      <td>0.532002</td>\n",
              "      <td>0.600346</td>\n",
              "      <td>0.546288</td>\n",
              "    </tr>\n",
              "    <tr>\n",
              "      <th>104681</th>\n",
              "      <td>0.335310</td>\n",
              "      <td>0.509847</td>\n",
              "      <td>0.566290</td>\n",
              "      <td>0.630722</td>\n",
              "      <td>0.478002</td>\n",
              "      <td>0.523712</td>\n",
              "      <td>0.442804</td>\n",
              "      <td>0.701434</td>\n",
              "      <td>0.267592</td>\n",
              "      <td>0.718026</td>\n",
              "      <td>...</td>\n",
              "      <td>0.659355</td>\n",
              "      <td>0.562073</td>\n",
              "      <td>0.422210</td>\n",
              "      <td>0.687715</td>\n",
              "      <td>0.674661</td>\n",
              "      <td>0.336200</td>\n",
              "      <td>0.636532</td>\n",
              "      <td>0.380224</td>\n",
              "      <td>0.369567</td>\n",
              "      <td>0.496334</td>\n",
              "    </tr>\n",
              "  </tbody>\n",
              "</table>\n",
              "<p>5 rows × 200 columns</p>\n",
              "</div>\n",
              "      <button class=\"colab-df-convert\" onclick=\"convertToInteractive('df-57f5dfe0-a00d-4cd4-aebc-3ff23f18a12b')\"\n",
              "              title=\"Convert this dataframe to an interactive table.\"\n",
              "              style=\"display:none;\">\n",
              "        \n",
              "  <svg xmlns=\"http://www.w3.org/2000/svg\" height=\"24px\"viewBox=\"0 0 24 24\"\n",
              "       width=\"24px\">\n",
              "    <path d=\"M0 0h24v24H0V0z\" fill=\"none\"/>\n",
              "    <path d=\"M18.56 5.44l.94 2.06.94-2.06 2.06-.94-2.06-.94-.94-2.06-.94 2.06-2.06.94zm-11 1L8.5 8.5l.94-2.06 2.06-.94-2.06-.94L8.5 2.5l-.94 2.06-2.06.94zm10 10l.94 2.06.94-2.06 2.06-.94-2.06-.94-.94-2.06-.94 2.06-2.06.94z\"/><path d=\"M17.41 7.96l-1.37-1.37c-.4-.4-.92-.59-1.43-.59-.52 0-1.04.2-1.43.59L10.3 9.45l-7.72 7.72c-.78.78-.78 2.05 0 2.83L4 21.41c.39.39.9.59 1.41.59.51 0 1.02-.2 1.41-.59l7.78-7.78 2.81-2.81c.8-.78.8-2.07 0-2.86zM5.41 20L4 18.59l7.72-7.72 1.47 1.35L5.41 20z\"/>\n",
              "  </svg>\n",
              "      </button>\n",
              "      \n",
              "  <style>\n",
              "    .colab-df-container {\n",
              "      display:flex;\n",
              "      flex-wrap:wrap;\n",
              "      gap: 12px;\n",
              "    }\n",
              "\n",
              "    .colab-df-convert {\n",
              "      background-color: #E8F0FE;\n",
              "      border: none;\n",
              "      border-radius: 50%;\n",
              "      cursor: pointer;\n",
              "      display: none;\n",
              "      fill: #1967D2;\n",
              "      height: 32px;\n",
              "      padding: 0 0 0 0;\n",
              "      width: 32px;\n",
              "    }\n",
              "\n",
              "    .colab-df-convert:hover {\n",
              "      background-color: #E2EBFA;\n",
              "      box-shadow: 0px 1px 2px rgba(60, 64, 67, 0.3), 0px 1px 3px 1px rgba(60, 64, 67, 0.15);\n",
              "      fill: #174EA6;\n",
              "    }\n",
              "\n",
              "    [theme=dark] .colab-df-convert {\n",
              "      background-color: #3B4455;\n",
              "      fill: #D2E3FC;\n",
              "    }\n",
              "\n",
              "    [theme=dark] .colab-df-convert:hover {\n",
              "      background-color: #434B5C;\n",
              "      box-shadow: 0px 1px 3px 1px rgba(0, 0, 0, 0.15);\n",
              "      filter: drop-shadow(0px 1px 2px rgba(0, 0, 0, 0.3));\n",
              "      fill: #FFFFFF;\n",
              "    }\n",
              "  </style>\n",
              "\n",
              "      <script>\n",
              "        const buttonEl =\n",
              "          document.querySelector('#df-57f5dfe0-a00d-4cd4-aebc-3ff23f18a12b button.colab-df-convert');\n",
              "        buttonEl.style.display =\n",
              "          google.colab.kernel.accessAllowed ? 'block' : 'none';\n",
              "\n",
              "        async function convertToInteractive(key) {\n",
              "          const element = document.querySelector('#df-57f5dfe0-a00d-4cd4-aebc-3ff23f18a12b');\n",
              "          const dataTable =\n",
              "            await google.colab.kernel.invokeFunction('convertToInteractive',\n",
              "                                                     [key], {});\n",
              "          if (!dataTable) return;\n",
              "\n",
              "          const docLinkHtml = 'Like what you see? Visit the ' +\n",
              "            '<a target=\"_blank\" href=https://colab.research.google.com/notebooks/data_table.ipynb>data table notebook</a>'\n",
              "            + ' to learn more about interactive tables.';\n",
              "          element.innerHTML = '';\n",
              "          dataTable['output_type'] = 'display_data';\n",
              "          await google.colab.output.renderOutput(dataTable, element);\n",
              "          const docLink = document.createElement('div');\n",
              "          docLink.innerHTML = docLinkHtml;\n",
              "          element.appendChild(docLink);\n",
              "        }\n",
              "      </script>\n",
              "    </div>\n",
              "  </div>\n",
              "  "
            ]
          },
          "metadata": {},
          "execution_count": 16
        }
      ]
    },
    {
      "cell_type": "code",
      "source": [
        "#Large Number of Unkown Features. Investigated PCA to see if feature space could\n",
        "#be reduced.\n",
        "\n",
        "'''\n",
        "from sklearn.ensemble import RandomForestClassifier\n",
        "from sklearn.metrics import recall_scorerfc = RandomForestClassifier()\n",
        "rfc.fit(X_train_scaled, y_train)\n",
        "display(rfc.score(X_train_scaled, y_train))\n",
        "'''"
      ],
      "metadata": {
        "id": "d5Y4-q7ybcim"
      },
      "execution_count": null,
      "outputs": []
    },
    {
      "cell_type": "code",
      "source": [
        "#The linear line shows that there isn't a good way to break down the variables\n",
        "#into principle components. It appears some transformation may have already been\n",
        "#applied\n",
        "'''\n",
        "\n",
        "import matplotlib.pyplot as plt\n",
        "import seaborn as sns\n",
        "from sklearn.decomposition import PCApca_test = PCA(n_components=50)\n",
        "pca_test.fit(X_train_scaled)sns.set(style='whitegrid')\n",
        "plt.plot(np.cumsum(pca_test.explained_variance_ratio_))\n",
        "plt.xlabel('number of components')\n",
        "plt.ylabel('cumulative explained variance')\n",
        "plt.axvline(linewidth=4, color='r', linestyle = '--', x=10, ymin=0, ymax=1)\n",
        "display(plt.show())evr = pca_test.explained_variance_ratio_\n",
        "cvr = np.cumsum(pca_test.explained_variance_ratio_)pca_df = pd.DataFrame()\n",
        "pca_df['Cumulative Variance Ratio'] = cvr\n",
        "pca_df['Explained Variance Ratio'] = evr\n",
        "display(pca_df.head(10))\n",
        "'''"
      ],
      "metadata": {
        "id": "pGxUrblybpI6"
      },
      "execution_count": null,
      "outputs": []
    },
    {
      "cell_type": "code",
      "source": [
        "from sklearn.metrics import accuracy_score\n",
        "from sklearn.ensemble import RandomForestClassifier\n",
        "forest_cl = RandomForestClassifier()\n",
        "forest_cl.fit(X_train, y_train)"
      ],
      "metadata": {
        "colab": {
          "base_uri": "https://localhost:8080/",
          "height": 347
        },
        "id": "CExIoSlGHayl",
        "outputId": "c8f10e50-5007-444b-91f5-3fe20b79b2a5"
      },
      "execution_count": null,
      "outputs": [
        {
          "output_type": "error",
          "ename": "KeyboardInterrupt",
          "evalue": "ignored",
          "traceback": [
            "\u001b[0;31m---------------------------------------------------------------------------\u001b[0m",
            "\u001b[0;31mKeyboardInterrupt\u001b[0m                         Traceback (most recent call last)",
            "\u001b[0;32m<ipython-input-20-464714cdc21d>\u001b[0m in \u001b[0;36m<module>\u001b[0;34m()\u001b[0m\n\u001b[1;32m      2\u001b[0m \u001b[0;32mfrom\u001b[0m \u001b[0msklearn\u001b[0m\u001b[0;34m.\u001b[0m\u001b[0mensemble\u001b[0m \u001b[0;32mimport\u001b[0m \u001b[0mRandomForestClassifier\u001b[0m\u001b[0;34m\u001b[0m\u001b[0;34m\u001b[0m\u001b[0m\n\u001b[1;32m      3\u001b[0m \u001b[0mforest_cl\u001b[0m \u001b[0;34m=\u001b[0m \u001b[0mRandomForestClassifier\u001b[0m\u001b[0;34m(\u001b[0m\u001b[0;34m)\u001b[0m\u001b[0;34m\u001b[0m\u001b[0;34m\u001b[0m\u001b[0m\n\u001b[0;32m----> 4\u001b[0;31m \u001b[0mforest_cl\u001b[0m\u001b[0;34m.\u001b[0m\u001b[0mfit\u001b[0m\u001b[0;34m(\u001b[0m\u001b[0mX_train\u001b[0m\u001b[0;34m,\u001b[0m \u001b[0my_train\u001b[0m\u001b[0;34m)\u001b[0m\u001b[0;34m\u001b[0m\u001b[0;34m\u001b[0m\u001b[0m\n\u001b[0m",
            "\u001b[0;32m/usr/local/lib/python3.7/dist-packages/sklearn/ensemble/_forest.py\u001b[0m in \u001b[0;36mfit\u001b[0;34m(self, X, y, sample_weight)\u001b[0m\n\u001b[1;32m    465\u001b[0m                     \u001b[0mn_samples_bootstrap\u001b[0m\u001b[0;34m=\u001b[0m\u001b[0mn_samples_bootstrap\u001b[0m\u001b[0;34m,\u001b[0m\u001b[0;34m\u001b[0m\u001b[0;34m\u001b[0m\u001b[0m\n\u001b[1;32m    466\u001b[0m                 )\n\u001b[0;32m--> 467\u001b[0;31m                 \u001b[0;32mfor\u001b[0m \u001b[0mi\u001b[0m\u001b[0;34m,\u001b[0m \u001b[0mt\u001b[0m \u001b[0;32min\u001b[0m \u001b[0menumerate\u001b[0m\u001b[0;34m(\u001b[0m\u001b[0mtrees\u001b[0m\u001b[0;34m)\u001b[0m\u001b[0;34m\u001b[0m\u001b[0;34m\u001b[0m\u001b[0m\n\u001b[0m\u001b[1;32m    468\u001b[0m             )\n\u001b[1;32m    469\u001b[0m \u001b[0;34m\u001b[0m\u001b[0m\n",
            "\u001b[0;32m/usr/local/lib/python3.7/dist-packages/joblib/parallel.py\u001b[0m in \u001b[0;36m__call__\u001b[0;34m(self, iterable)\u001b[0m\n\u001b[1;32m   1044\u001b[0m                 \u001b[0mself\u001b[0m\u001b[0;34m.\u001b[0m\u001b[0m_iterating\u001b[0m \u001b[0;34m=\u001b[0m \u001b[0mself\u001b[0m\u001b[0;34m.\u001b[0m\u001b[0m_original_iterator\u001b[0m \u001b[0;32mis\u001b[0m \u001b[0;32mnot\u001b[0m \u001b[0;32mNone\u001b[0m\u001b[0;34m\u001b[0m\u001b[0;34m\u001b[0m\u001b[0m\n\u001b[1;32m   1045\u001b[0m \u001b[0;34m\u001b[0m\u001b[0m\n\u001b[0;32m-> 1046\u001b[0;31m             \u001b[0;32mwhile\u001b[0m \u001b[0mself\u001b[0m\u001b[0;34m.\u001b[0m\u001b[0mdispatch_one_batch\u001b[0m\u001b[0;34m(\u001b[0m\u001b[0miterator\u001b[0m\u001b[0;34m)\u001b[0m\u001b[0;34m:\u001b[0m\u001b[0;34m\u001b[0m\u001b[0;34m\u001b[0m\u001b[0m\n\u001b[0m\u001b[1;32m   1047\u001b[0m                 \u001b[0;32mpass\u001b[0m\u001b[0;34m\u001b[0m\u001b[0;34m\u001b[0m\u001b[0m\n\u001b[1;32m   1048\u001b[0m \u001b[0;34m\u001b[0m\u001b[0m\n",
            "\u001b[0;32m/usr/local/lib/python3.7/dist-packages/joblib/parallel.py\u001b[0m in \u001b[0;36mdispatch_one_batch\u001b[0;34m(self, iterator)\u001b[0m\n\u001b[1;32m    859\u001b[0m                 \u001b[0;32mreturn\u001b[0m \u001b[0;32mFalse\u001b[0m\u001b[0;34m\u001b[0m\u001b[0;34m\u001b[0m\u001b[0m\n\u001b[1;32m    860\u001b[0m             \u001b[0;32melse\u001b[0m\u001b[0;34m:\u001b[0m\u001b[0;34m\u001b[0m\u001b[0;34m\u001b[0m\u001b[0m\n\u001b[0;32m--> 861\u001b[0;31m                 \u001b[0mself\u001b[0m\u001b[0;34m.\u001b[0m\u001b[0m_dispatch\u001b[0m\u001b[0;34m(\u001b[0m\u001b[0mtasks\u001b[0m\u001b[0;34m)\u001b[0m\u001b[0;34m\u001b[0m\u001b[0;34m\u001b[0m\u001b[0m\n\u001b[0m\u001b[1;32m    862\u001b[0m                 \u001b[0;32mreturn\u001b[0m \u001b[0;32mTrue\u001b[0m\u001b[0;34m\u001b[0m\u001b[0;34m\u001b[0m\u001b[0m\n\u001b[1;32m    863\u001b[0m \u001b[0;34m\u001b[0m\u001b[0m\n",
            "\u001b[0;32m/usr/local/lib/python3.7/dist-packages/joblib/parallel.py\u001b[0m in \u001b[0;36m_dispatch\u001b[0;34m(self, batch)\u001b[0m\n\u001b[1;32m    777\u001b[0m         \u001b[0;32mwith\u001b[0m \u001b[0mself\u001b[0m\u001b[0;34m.\u001b[0m\u001b[0m_lock\u001b[0m\u001b[0;34m:\u001b[0m\u001b[0;34m\u001b[0m\u001b[0;34m\u001b[0m\u001b[0m\n\u001b[1;32m    778\u001b[0m             \u001b[0mjob_idx\u001b[0m \u001b[0;34m=\u001b[0m \u001b[0mlen\u001b[0m\u001b[0;34m(\u001b[0m\u001b[0mself\u001b[0m\u001b[0;34m.\u001b[0m\u001b[0m_jobs\u001b[0m\u001b[0;34m)\u001b[0m\u001b[0;34m\u001b[0m\u001b[0;34m\u001b[0m\u001b[0m\n\u001b[0;32m--> 779\u001b[0;31m             \u001b[0mjob\u001b[0m \u001b[0;34m=\u001b[0m \u001b[0mself\u001b[0m\u001b[0;34m.\u001b[0m\u001b[0m_backend\u001b[0m\u001b[0;34m.\u001b[0m\u001b[0mapply_async\u001b[0m\u001b[0;34m(\u001b[0m\u001b[0mbatch\u001b[0m\u001b[0;34m,\u001b[0m \u001b[0mcallback\u001b[0m\u001b[0;34m=\u001b[0m\u001b[0mcb\u001b[0m\u001b[0;34m)\u001b[0m\u001b[0;34m\u001b[0m\u001b[0;34m\u001b[0m\u001b[0m\n\u001b[0m\u001b[1;32m    780\u001b[0m             \u001b[0;31m# A job can complete so quickly than its callback is\u001b[0m\u001b[0;34m\u001b[0m\u001b[0;34m\u001b[0m\u001b[0;34m\u001b[0m\u001b[0m\n\u001b[1;32m    781\u001b[0m             \u001b[0;31m# called before we get here, causing self._jobs to\u001b[0m\u001b[0;34m\u001b[0m\u001b[0;34m\u001b[0m\u001b[0;34m\u001b[0m\u001b[0m\n",
            "\u001b[0;32m/usr/local/lib/python3.7/dist-packages/joblib/_parallel_backends.py\u001b[0m in \u001b[0;36mapply_async\u001b[0;34m(self, func, callback)\u001b[0m\n\u001b[1;32m    206\u001b[0m     \u001b[0;32mdef\u001b[0m \u001b[0mapply_async\u001b[0m\u001b[0;34m(\u001b[0m\u001b[0mself\u001b[0m\u001b[0;34m,\u001b[0m \u001b[0mfunc\u001b[0m\u001b[0;34m,\u001b[0m \u001b[0mcallback\u001b[0m\u001b[0;34m=\u001b[0m\u001b[0;32mNone\u001b[0m\u001b[0;34m)\u001b[0m\u001b[0;34m:\u001b[0m\u001b[0;34m\u001b[0m\u001b[0;34m\u001b[0m\u001b[0m\n\u001b[1;32m    207\u001b[0m         \u001b[0;34m\"\"\"Schedule a func to be run\"\"\"\u001b[0m\u001b[0;34m\u001b[0m\u001b[0;34m\u001b[0m\u001b[0m\n\u001b[0;32m--> 208\u001b[0;31m         \u001b[0mresult\u001b[0m \u001b[0;34m=\u001b[0m \u001b[0mImmediateResult\u001b[0m\u001b[0;34m(\u001b[0m\u001b[0mfunc\u001b[0m\u001b[0;34m)\u001b[0m\u001b[0;34m\u001b[0m\u001b[0;34m\u001b[0m\u001b[0m\n\u001b[0m\u001b[1;32m    209\u001b[0m         \u001b[0;32mif\u001b[0m \u001b[0mcallback\u001b[0m\u001b[0;34m:\u001b[0m\u001b[0;34m\u001b[0m\u001b[0;34m\u001b[0m\u001b[0m\n\u001b[1;32m    210\u001b[0m             \u001b[0mcallback\u001b[0m\u001b[0;34m(\u001b[0m\u001b[0mresult\u001b[0m\u001b[0;34m)\u001b[0m\u001b[0;34m\u001b[0m\u001b[0;34m\u001b[0m\u001b[0m\n",
            "\u001b[0;32m/usr/local/lib/python3.7/dist-packages/joblib/_parallel_backends.py\u001b[0m in \u001b[0;36m__init__\u001b[0;34m(self, batch)\u001b[0m\n\u001b[1;32m    570\u001b[0m         \u001b[0;31m# Don't delay the application, to avoid keeping the input\u001b[0m\u001b[0;34m\u001b[0m\u001b[0;34m\u001b[0m\u001b[0;34m\u001b[0m\u001b[0m\n\u001b[1;32m    571\u001b[0m         \u001b[0;31m# arguments in memory\u001b[0m\u001b[0;34m\u001b[0m\u001b[0;34m\u001b[0m\u001b[0;34m\u001b[0m\u001b[0m\n\u001b[0;32m--> 572\u001b[0;31m         \u001b[0mself\u001b[0m\u001b[0;34m.\u001b[0m\u001b[0mresults\u001b[0m \u001b[0;34m=\u001b[0m \u001b[0mbatch\u001b[0m\u001b[0;34m(\u001b[0m\u001b[0;34m)\u001b[0m\u001b[0;34m\u001b[0m\u001b[0;34m\u001b[0m\u001b[0m\n\u001b[0m\u001b[1;32m    573\u001b[0m \u001b[0;34m\u001b[0m\u001b[0m\n\u001b[1;32m    574\u001b[0m     \u001b[0;32mdef\u001b[0m \u001b[0mget\u001b[0m\u001b[0;34m(\u001b[0m\u001b[0mself\u001b[0m\u001b[0;34m)\u001b[0m\u001b[0;34m:\u001b[0m\u001b[0;34m\u001b[0m\u001b[0;34m\u001b[0m\u001b[0m\n",
            "\u001b[0;32m/usr/local/lib/python3.7/dist-packages/joblib/parallel.py\u001b[0m in \u001b[0;36m__call__\u001b[0;34m(self)\u001b[0m\n\u001b[1;32m    261\u001b[0m         \u001b[0;32mwith\u001b[0m \u001b[0mparallel_backend\u001b[0m\u001b[0;34m(\u001b[0m\u001b[0mself\u001b[0m\u001b[0;34m.\u001b[0m\u001b[0m_backend\u001b[0m\u001b[0;34m,\u001b[0m \u001b[0mn_jobs\u001b[0m\u001b[0;34m=\u001b[0m\u001b[0mself\u001b[0m\u001b[0;34m.\u001b[0m\u001b[0m_n_jobs\u001b[0m\u001b[0;34m)\u001b[0m\u001b[0;34m:\u001b[0m\u001b[0;34m\u001b[0m\u001b[0;34m\u001b[0m\u001b[0m\n\u001b[1;32m    262\u001b[0m             return [func(*args, **kwargs)\n\u001b[0;32m--> 263\u001b[0;31m                     for func, args, kwargs in self.items]\n\u001b[0m\u001b[1;32m    264\u001b[0m \u001b[0;34m\u001b[0m\u001b[0m\n\u001b[1;32m    265\u001b[0m     \u001b[0;32mdef\u001b[0m \u001b[0m__reduce__\u001b[0m\u001b[0;34m(\u001b[0m\u001b[0mself\u001b[0m\u001b[0;34m)\u001b[0m\u001b[0;34m:\u001b[0m\u001b[0;34m\u001b[0m\u001b[0;34m\u001b[0m\u001b[0m\n",
            "\u001b[0;32m/usr/local/lib/python3.7/dist-packages/joblib/parallel.py\u001b[0m in \u001b[0;36m<listcomp>\u001b[0;34m(.0)\u001b[0m\n\u001b[1;32m    261\u001b[0m         \u001b[0;32mwith\u001b[0m \u001b[0mparallel_backend\u001b[0m\u001b[0;34m(\u001b[0m\u001b[0mself\u001b[0m\u001b[0;34m.\u001b[0m\u001b[0m_backend\u001b[0m\u001b[0;34m,\u001b[0m \u001b[0mn_jobs\u001b[0m\u001b[0;34m=\u001b[0m\u001b[0mself\u001b[0m\u001b[0;34m.\u001b[0m\u001b[0m_n_jobs\u001b[0m\u001b[0;34m)\u001b[0m\u001b[0;34m:\u001b[0m\u001b[0;34m\u001b[0m\u001b[0;34m\u001b[0m\u001b[0m\n\u001b[1;32m    262\u001b[0m             return [func(*args, **kwargs)\n\u001b[0;32m--> 263\u001b[0;31m                     for func, args, kwargs in self.items]\n\u001b[0m\u001b[1;32m    264\u001b[0m \u001b[0;34m\u001b[0m\u001b[0m\n\u001b[1;32m    265\u001b[0m     \u001b[0;32mdef\u001b[0m \u001b[0m__reduce__\u001b[0m\u001b[0;34m(\u001b[0m\u001b[0mself\u001b[0m\u001b[0;34m)\u001b[0m\u001b[0;34m:\u001b[0m\u001b[0;34m\u001b[0m\u001b[0;34m\u001b[0m\u001b[0m\n",
            "\u001b[0;32m/usr/local/lib/python3.7/dist-packages/sklearn/utils/fixes.py\u001b[0m in \u001b[0;36m__call__\u001b[0;34m(self, *args, **kwargs)\u001b[0m\n\u001b[1;32m    214\u001b[0m     \u001b[0;32mdef\u001b[0m \u001b[0m__call__\u001b[0m\u001b[0;34m(\u001b[0m\u001b[0mself\u001b[0m\u001b[0;34m,\u001b[0m \u001b[0;34m*\u001b[0m\u001b[0margs\u001b[0m\u001b[0;34m,\u001b[0m \u001b[0;34m**\u001b[0m\u001b[0mkwargs\u001b[0m\u001b[0;34m)\u001b[0m\u001b[0;34m:\u001b[0m\u001b[0;34m\u001b[0m\u001b[0;34m\u001b[0m\u001b[0m\n\u001b[1;32m    215\u001b[0m         \u001b[0;32mwith\u001b[0m \u001b[0mconfig_context\u001b[0m\u001b[0;34m(\u001b[0m\u001b[0;34m**\u001b[0m\u001b[0mself\u001b[0m\u001b[0;34m.\u001b[0m\u001b[0mconfig\u001b[0m\u001b[0;34m)\u001b[0m\u001b[0;34m:\u001b[0m\u001b[0;34m\u001b[0m\u001b[0;34m\u001b[0m\u001b[0m\n\u001b[0;32m--> 216\u001b[0;31m             \u001b[0;32mreturn\u001b[0m \u001b[0mself\u001b[0m\u001b[0;34m.\u001b[0m\u001b[0mfunction\u001b[0m\u001b[0;34m(\u001b[0m\u001b[0;34m*\u001b[0m\u001b[0margs\u001b[0m\u001b[0;34m,\u001b[0m \u001b[0;34m**\u001b[0m\u001b[0mkwargs\u001b[0m\u001b[0;34m)\u001b[0m\u001b[0;34m\u001b[0m\u001b[0;34m\u001b[0m\u001b[0m\n\u001b[0m\u001b[1;32m    217\u001b[0m \u001b[0;34m\u001b[0m\u001b[0m\n\u001b[1;32m    218\u001b[0m \u001b[0;34m\u001b[0m\u001b[0m\n",
            "\u001b[0;32m/usr/local/lib/python3.7/dist-packages/sklearn/ensemble/_forest.py\u001b[0m in \u001b[0;36m_parallel_build_trees\u001b[0;34m(tree, forest, X, y, sample_weight, tree_idx, n_trees, verbose, class_weight, n_samples_bootstrap)\u001b[0m\n\u001b[1;32m    183\u001b[0m             \u001b[0mcurr_sample_weight\u001b[0m \u001b[0;34m*=\u001b[0m \u001b[0mcompute_sample_weight\u001b[0m\u001b[0;34m(\u001b[0m\u001b[0;34m\"balanced\"\u001b[0m\u001b[0;34m,\u001b[0m \u001b[0my\u001b[0m\u001b[0;34m,\u001b[0m \u001b[0mindices\u001b[0m\u001b[0;34m=\u001b[0m\u001b[0mindices\u001b[0m\u001b[0;34m)\u001b[0m\u001b[0;34m\u001b[0m\u001b[0;34m\u001b[0m\u001b[0m\n\u001b[1;32m    184\u001b[0m \u001b[0;34m\u001b[0m\u001b[0m\n\u001b[0;32m--> 185\u001b[0;31m         \u001b[0mtree\u001b[0m\u001b[0;34m.\u001b[0m\u001b[0mfit\u001b[0m\u001b[0;34m(\u001b[0m\u001b[0mX\u001b[0m\u001b[0;34m,\u001b[0m \u001b[0my\u001b[0m\u001b[0;34m,\u001b[0m \u001b[0msample_weight\u001b[0m\u001b[0;34m=\u001b[0m\u001b[0mcurr_sample_weight\u001b[0m\u001b[0;34m,\u001b[0m \u001b[0mcheck_input\u001b[0m\u001b[0;34m=\u001b[0m\u001b[0;32mFalse\u001b[0m\u001b[0;34m)\u001b[0m\u001b[0;34m\u001b[0m\u001b[0;34m\u001b[0m\u001b[0m\n\u001b[0m\u001b[1;32m    186\u001b[0m     \u001b[0;32melse\u001b[0m\u001b[0;34m:\u001b[0m\u001b[0;34m\u001b[0m\u001b[0;34m\u001b[0m\u001b[0m\n\u001b[1;32m    187\u001b[0m         \u001b[0mtree\u001b[0m\u001b[0;34m.\u001b[0m\u001b[0mfit\u001b[0m\u001b[0;34m(\u001b[0m\u001b[0mX\u001b[0m\u001b[0;34m,\u001b[0m \u001b[0my\u001b[0m\u001b[0;34m,\u001b[0m \u001b[0msample_weight\u001b[0m\u001b[0;34m=\u001b[0m\u001b[0msample_weight\u001b[0m\u001b[0;34m,\u001b[0m \u001b[0mcheck_input\u001b[0m\u001b[0;34m=\u001b[0m\u001b[0;32mFalse\u001b[0m\u001b[0;34m)\u001b[0m\u001b[0;34m\u001b[0m\u001b[0;34m\u001b[0m\u001b[0m\n",
            "\u001b[0;32m/usr/local/lib/python3.7/dist-packages/sklearn/tree/_classes.py\u001b[0m in \u001b[0;36mfit\u001b[0;34m(self, X, y, sample_weight, check_input, X_idx_sorted)\u001b[0m\n\u001b[1;32m    940\u001b[0m             \u001b[0msample_weight\u001b[0m\u001b[0;34m=\u001b[0m\u001b[0msample_weight\u001b[0m\u001b[0;34m,\u001b[0m\u001b[0;34m\u001b[0m\u001b[0;34m\u001b[0m\u001b[0m\n\u001b[1;32m    941\u001b[0m             \u001b[0mcheck_input\u001b[0m\u001b[0;34m=\u001b[0m\u001b[0mcheck_input\u001b[0m\u001b[0;34m,\u001b[0m\u001b[0;34m\u001b[0m\u001b[0;34m\u001b[0m\u001b[0m\n\u001b[0;32m--> 942\u001b[0;31m             \u001b[0mX_idx_sorted\u001b[0m\u001b[0;34m=\u001b[0m\u001b[0mX_idx_sorted\u001b[0m\u001b[0;34m,\u001b[0m\u001b[0;34m\u001b[0m\u001b[0;34m\u001b[0m\u001b[0m\n\u001b[0m\u001b[1;32m    943\u001b[0m         )\n\u001b[1;32m    944\u001b[0m         \u001b[0;32mreturn\u001b[0m \u001b[0mself\u001b[0m\u001b[0;34m\u001b[0m\u001b[0;34m\u001b[0m\u001b[0m\n",
            "\u001b[0;32m/usr/local/lib/python3.7/dist-packages/sklearn/tree/_classes.py\u001b[0m in \u001b[0;36mfit\u001b[0;34m(self, X, y, sample_weight, check_input, X_idx_sorted)\u001b[0m\n\u001b[1;32m    418\u001b[0m             )\n\u001b[1;32m    419\u001b[0m \u001b[0;34m\u001b[0m\u001b[0m\n\u001b[0;32m--> 420\u001b[0;31m         \u001b[0mbuilder\u001b[0m\u001b[0;34m.\u001b[0m\u001b[0mbuild\u001b[0m\u001b[0;34m(\u001b[0m\u001b[0mself\u001b[0m\u001b[0;34m.\u001b[0m\u001b[0mtree_\u001b[0m\u001b[0;34m,\u001b[0m \u001b[0mX\u001b[0m\u001b[0;34m,\u001b[0m \u001b[0my\u001b[0m\u001b[0;34m,\u001b[0m \u001b[0msample_weight\u001b[0m\u001b[0;34m)\u001b[0m\u001b[0;34m\u001b[0m\u001b[0;34m\u001b[0m\u001b[0m\n\u001b[0m\u001b[1;32m    421\u001b[0m \u001b[0;34m\u001b[0m\u001b[0m\n\u001b[1;32m    422\u001b[0m         \u001b[0;32mif\u001b[0m \u001b[0mself\u001b[0m\u001b[0;34m.\u001b[0m\u001b[0mn_outputs_\u001b[0m \u001b[0;34m==\u001b[0m \u001b[0;36m1\u001b[0m \u001b[0;32mand\u001b[0m \u001b[0mis_classifier\u001b[0m\u001b[0;34m(\u001b[0m\u001b[0mself\u001b[0m\u001b[0;34m)\u001b[0m\u001b[0;34m:\u001b[0m\u001b[0;34m\u001b[0m\u001b[0;34m\u001b[0m\u001b[0m\n",
            "\u001b[0;31mKeyboardInterrupt\u001b[0m: "
          ]
        }
      ]
    },
    {
      "cell_type": "code",
      "source": [
        "from sklearn.model_selection import cross_val_score\n",
        "cross_val_score(forest_cl, X_train, y_train, cv=3, scoring = 'accuracy')"
      ],
      "metadata": {
        "colab": {
          "base_uri": "https://localhost:8080/"
        },
        "id": "jpo-qCJWR8yD",
        "outputId": "d112ce4a-8ffa-447f-9491-5511eb72f704"
      },
      "execution_count": null,
      "outputs": [
        {
          "output_type": "execute_result",
          "data": {
            "text/plain": [
              "array([0.74100112, 0.73947689, 0.74660167])"
            ]
          },
          "metadata": {},
          "execution_count": 30
        }
      ]
    },
    {
      "cell_type": "code",
      "source": [
        "from sklearn.model_selection import cross_val_predict\n",
        "forest_cl_y_train_pred = cross_val_predict(forest_cl, X_train, y_train, cv=3)"
      ],
      "metadata": {
        "id": "bkp0Q7duL8Og"
      },
      "execution_count": null,
      "outputs": []
    },
    {
      "cell_type": "code",
      "source": [
        "from sklearn.metrics import confusion_matrix\n",
        "confusion_matrix(y_train, forest_cl_y_train_pred)"
      ],
      "metadata": {
        "id": "aOTMde78MNFr"
      },
      "execution_count": null,
      "outputs": []
    },
    {
      "cell_type": "code",
      "source": [
        "from sklearn.model_slection import GridSearchCV\n",
        "\n",
        "param_grid = {}"
      ],
      "metadata": {
        "id": "uIlfxl09HdiS"
      },
      "execution_count": null,
      "outputs": []
    },
    {
      "cell_type": "code",
      "source": [
        "forest_cl2 = RandomForestClassifier()\n",
        "grid_search = GridSearchCV(forest_cl2, param_grid, cv=5,\n",
        "                           scoring = 'binary')"
      ],
      "metadata": {
        "id": "hlDIgubsHgqj"
      },
      "execution_count": null,
      "outputs": []
    },
    {
      "cell_type": "markdown",
      "source": [
        "Below is a tensorflow model"
      ],
      "metadata": {
        "id": "1Yb73bXyAUNS"
      }
    },
    {
      "cell_type": "code",
      "source": [
        "from keras.wrappers.scikit_learn import KerasClassifier\n",
        "nn = KerasClassifier()\n",
        "nn._estimator_type = \"classifier\""
      ],
      "metadata": {
        "id": "_ZF2_K3EU5V8"
      },
      "execution_count": 36,
      "outputs": []
    },
    {
      "cell_type": "code",
      "source": [
        "METRICS = [\n",
        "      #keras.metrics.TruePositives(name='tp'),\n",
        "      #keras.metrics.FalsePositives(name='fp'),\n",
        "      #keras.metrics.TrueNegatives(name='tn'),\n",
        "      #keras.metrics.FalseNegatives(name='fn'), \n",
        "      keras.metrics.BinaryAccuracy(name='accuracy'),\n",
        "      keras.metrics.Precision(name='precision'),\n",
        "      #keras.metrics.Recall(name='recall'),\n",
        "      keras.metrics.AUC(name='auc'),\n",
        "      #keras.metrics.AUC(name='prc', curve='PR'), # precision-recall curve\n",
        "]"
      ],
      "metadata": {
        "id": "Ae9YJ_13ENRq"
      },
      "execution_count": 31,
      "outputs": []
    },
    {
      "cell_type": "code",
      "source": [
        "def create_base_nn(metrics, input_size):\n",
        "\n",
        "  model = Sequential()\n",
        "  model.add(Dense(100, activation='relu', input_dim=input_size))\n",
        "  model.add(Dropout(rate=0.2))\n",
        "  model.add(Dense(100, activation = 'relu'))\n",
        "  model.add(Dropout(rate=0.2))\n",
        "  model.add(Dense(1, activation = 'sigmoid'))\n",
        "\n",
        "  model.compile(optimizer=tf.keras.optimizers.Adam(learning_rate=3e-4),\n",
        "              loss=tf.keras.losses.BinaryCrossentropy(),\n",
        "              metrics = metrics)\n",
        "  \n",
        "  #model.compile(loss = 'binary_crossentropy', \n",
        "  #              optimizer = 'adam', \n",
        "  #              metrics = ['accuracy'])\n",
        "  return model"
      ],
      "metadata": {
        "id": "4VvWK3PXC5Up"
      },
      "execution_count": 32,
      "outputs": []
    },
    {
      "cell_type": "code",
      "source": [
        "model2 = create_base_nn(metrics = METRICS, input_size=200)"
      ],
      "metadata": {
        "id": "ANLnXxqqKl8H"
      },
      "execution_count": 33,
      "outputs": []
    },
    {
      "cell_type": "code",
      "source": [
        "model2.summary()"
      ],
      "metadata": {
        "id": "wMt9CPCUIJfn"
      },
      "execution_count": null,
      "outputs": []
    },
    {
      "cell_type": "code",
      "source": [
        "result = model2.fit(X_train, y_train, batch_size = 100, epochs = 10, validation_data=(X_test, y_test))"
      ],
      "metadata": {
        "id": "iXCWWXxABisn",
        "colab": {
          "base_uri": "https://localhost:8080/"
        },
        "outputId": "97b80ea3-5e03-4c3d-c21d-335006658d8c"
      },
      "execution_count": 34,
      "outputs": [
        {
          "output_type": "stream",
          "name": "stdout",
          "text": [
            "Epoch 1/10\n",
            "321/321 [==============================] - 3s 6ms/step - loss: 0.6536 - accuracy: 0.6108 - precision: 0.6075 - auc: 0.6602 - val_loss: 0.4007 - val_accuracy: 0.9033 - val_precision: 0.5717 - val_auc: 0.8105\n",
            "Epoch 2/10\n",
            "321/321 [==============================] - 2s 5ms/step - loss: 0.5686 - accuracy: 0.7073 - precision: 0.7090 - auc: 0.7794 - val_loss: 0.6661 - val_accuracy: 0.6202 - val_precision: 0.1969 - val_auc: 0.8414\n",
            "Epoch 3/10\n",
            "321/321 [==============================] - 1s 4ms/step - loss: 0.5272 - accuracy: 0.7361 - precision: 0.7392 - auc: 0.8142 - val_loss: 0.5519 - val_accuracy: 0.7250 - val_precision: 0.2466 - val_auc: 0.8521\n",
            "Epoch 4/10\n",
            "321/321 [==============================] - 1s 4ms/step - loss: 0.5078 - accuracy: 0.7494 - precision: 0.7542 - auc: 0.8298 - val_loss: 0.4754 - val_accuracy: 0.7861 - val_precision: 0.2909 - val_auc: 0.8544\n",
            "Epoch 5/10\n",
            "321/321 [==============================] - 1s 5ms/step - loss: 0.4984 - accuracy: 0.7583 - precision: 0.7647 - auc: 0.8372 - val_loss: 0.5082 - val_accuracy: 0.7594 - val_precision: 0.2700 - val_auc: 0.8552\n",
            "Epoch 6/10\n",
            "321/321 [==============================] - 1s 4ms/step - loss: 0.4949 - accuracy: 0.7600 - precision: 0.7657 - auc: 0.8400 - val_loss: 0.4451 - val_accuracy: 0.8017 - val_precision: 0.3059 - val_auc: 0.8562\n",
            "Epoch 7/10\n",
            "321/321 [==============================] - 1s 4ms/step - loss: 0.4903 - accuracy: 0.7646 - precision: 0.7711 - auc: 0.8431 - val_loss: 0.4413 - val_accuracy: 0.8099 - val_precision: 0.3149 - val_auc: 0.8564\n",
            "Epoch 8/10\n",
            "321/321 [==============================] - 1s 4ms/step - loss: 0.4886 - accuracy: 0.7669 - precision: 0.7730 - auc: 0.8446 - val_loss: 0.5395 - val_accuracy: 0.7398 - val_precision: 0.2574 - val_auc: 0.8572\n",
            "Epoch 9/10\n",
            "321/321 [==============================] - 1s 4ms/step - loss: 0.4870 - accuracy: 0.7668 - precision: 0.7735 - auc: 0.8458 - val_loss: 0.4045 - val_accuracy: 0.8368 - val_precision: 0.3479 - val_auc: 0.8566\n",
            "Epoch 10/10\n",
            "321/321 [==============================] - 1s 4ms/step - loss: 0.4842 - accuracy: 0.7692 - precision: 0.7762 - auc: 0.8475 - val_loss: 0.4975 - val_accuracy: 0.7673 - val_precision: 0.2766 - val_auc: 0.8574\n"
          ]
        }
      ]
    },
    {
      "cell_type": "code",
      "source": [
        "from sklearn.metrics import roc_auc_score\n",
        "y_pred = model2.predict(X_test)\n",
        "roc_auc_score(y_test, y_pred)"
      ],
      "metadata": {
        "colab": {
          "base_uri": "https://localhost:8080/"
        },
        "id": "yNDJvFpCXBfn",
        "outputId": "3372bc61-bb8e-444b-8ec9-a37e6482589c"
      },
      "execution_count": null,
      "outputs": [
        {
          "output_type": "execute_result",
          "data": {
            "text/plain": [
              "0.8601320867060298"
            ]
          },
          "metadata": {},
          "execution_count": 34
        }
      ]
    },
    {
      "cell_type": "code",
      "source": [
        ""
      ],
      "metadata": {
        "id": "8FH0d_NPE1HO"
      },
      "execution_count": null,
      "outputs": []
    },
    {
      "cell_type": "code",
      "source": [
        ""
      ],
      "metadata": {
        "id": "VD66D7M5FN2r"
      },
      "execution_count": null,
      "outputs": []
    },
    {
      "cell_type": "code",
      "source": [
        ""
      ],
      "metadata": {
        "id": "JCnQCgmoFWAe"
      },
      "execution_count": null,
      "outputs": []
    },
    {
      "cell_type": "code",
      "source": [
        "from sklearn.ensemble import VotingClassifier\n",
        "from sklearn.svm import SVC\n",
        "from sklearn.linear_model import LogisticRegression\n",
        "\n",
        "log_clf = LogisticRegression()\n",
        "svm_clf = SVC()\n",
        "\n",
        "voting_clf = VotingClassifier(\n",
        "    estimators = [('rf', forest_cl), ('lr', log_clf), ('svc',svm_clf)], \n",
        "    voting='hard'\n",
        ")\n",
        "\n",
        "#voting_clf.fit(X_train, y_train)"
      ],
      "metadata": {
        "id": "xGpoKr0EGR13"
      },
      "execution_count": 43,
      "outputs": []
    },
    {
      "cell_type": "code",
      "source": [
        "for clf in (forest_cl, log_clf, svm_clf, voting_clf):\n",
        "  clf.fit(X_train, y_train)\n",
        "  y_pred = clf.predict(X_test)\n",
        "  print(clf.__class__.__name__, accuracy_score(y_test, y_pred))"
      ],
      "metadata": {
        "colab": {
          "base_uri": "https://localhost:8080/"
        },
        "id": "2Lm3BxeKTaYY",
        "outputId": "72ebf9b0-28b1-4a3c-a53b-62783dc3b964"
      },
      "execution_count": 44,
      "outputs": [
        {
          "output_type": "stream",
          "name": "stdout",
          "text": [
            "RandomForestClassifier 0.74075\n",
            "LogisticRegression 0.776725\n",
            "SVC 0.796325\n",
            "VotingClassifier 0.795175\n"
          ]
        }
      ]
    },
    {
      "cell_type": "code",
      "source": [
        "sample = pd.read_csv('/content/sample_submission.csv')\n"
      ],
      "metadata": {
        "id": "IdAmvFjMS8PK"
      },
      "execution_count": null,
      "outputs": []
    },
    {
      "cell_type": "code",
      "source": [
        "test_features.shape"
      ],
      "metadata": {
        "colab": {
          "base_uri": "https://localhost:8080/"
        },
        "id": "rYLxOPCExkt8",
        "outputId": "41dec6b1-507a-4d6f-f504-4ca9abbe848e"
      },
      "execution_count": null,
      "outputs": [
        {
          "output_type": "execute_result",
          "data": {
            "text/plain": [
              "(200000, 200)"
            ]
          },
          "metadata": {},
          "execution_count": 117
        }
      ]
    },
    {
      "cell_type": "code",
      "source": [
        "id_code_test = test['ID_code']\n",
        "pred = model2.predict(test_features)\n",
        "pred_ = pred[:,0]\n",
        "pred_"
      ],
      "metadata": {
        "colab": {
          "base_uri": "https://localhost:8080/"
        },
        "id": "5WJBM6JlxXco",
        "outputId": "45e4c39b-3f3f-4c28-9ec5-07356761c04c"
      },
      "execution_count": null,
      "outputs": [
        {
          "output_type": "execute_result",
          "data": {
            "text/plain": [
              "array([0.23863569, 0.41215286, 0.06348121, ..., 0.00694194, 0.08110669,\n",
              "       0.21699587], dtype=float32)"
            ]
          },
          "metadata": {},
          "execution_count": 36
        }
      ]
    },
    {
      "cell_type": "code",
      "source": [
        "submission = pd.DataFrame({'ID_code': id_code_test, 'target' : pred_})"
      ],
      "metadata": {
        "id": "QD-lEZlCywKw"
      },
      "execution_count": null,
      "outputs": []
    },
    {
      "cell_type": "code",
      "source": [
        "from google.colab import files\n",
        "\n",
        "submission.to_csv('output.csv', encoding = 'utf-8-sig', index=False) \n",
        "files.download('output.csv')"
      ],
      "metadata": {
        "colab": {
          "base_uri": "https://localhost:8080/",
          "height": 17
        },
        "id": "r9Vjz6HZ0h7Y",
        "outputId": "7fe73112-9d04-4600-e0de-69d21a57f85f"
      },
      "execution_count": null,
      "outputs": [
        {
          "output_type": "display_data",
          "data": {
            "application/javascript": [
              "\n",
              "    async function download(id, filename, size) {\n",
              "      if (!google.colab.kernel.accessAllowed) {\n",
              "        return;\n",
              "      }\n",
              "      const div = document.createElement('div');\n",
              "      const label = document.createElement('label');\n",
              "      label.textContent = `Downloading \"${filename}\": `;\n",
              "      div.appendChild(label);\n",
              "      const progress = document.createElement('progress');\n",
              "      progress.max = size;\n",
              "      div.appendChild(progress);\n",
              "      document.body.appendChild(div);\n",
              "\n",
              "      const buffers = [];\n",
              "      let downloaded = 0;\n",
              "\n",
              "      const channel = await google.colab.kernel.comms.open(id);\n",
              "      // Send a message to notify the kernel that we're ready.\n",
              "      channel.send({})\n",
              "\n",
              "      for await (const message of channel.messages) {\n",
              "        // Send a message to notify the kernel that we're ready.\n",
              "        channel.send({})\n",
              "        if (message.buffers) {\n",
              "          for (const buffer of message.buffers) {\n",
              "            buffers.push(buffer);\n",
              "            downloaded += buffer.byteLength;\n",
              "            progress.value = downloaded;\n",
              "          }\n",
              "        }\n",
              "      }\n",
              "      const blob = new Blob(buffers, {type: 'application/binary'});\n",
              "      const a = document.createElement('a');\n",
              "      a.href = window.URL.createObjectURL(blob);\n",
              "      a.download = filename;\n",
              "      div.appendChild(a);\n",
              "      a.click();\n",
              "      div.remove();\n",
              "    }\n",
              "  "
            ],
            "text/plain": [
              "<IPython.core.display.Javascript object>"
            ]
          },
          "metadata": {}
        },
        {
          "output_type": "display_data",
          "data": {
            "application/javascript": [
              "download(\"download_190732ed-8620-4178-a042-2e4dfd0f41eb\", \"output.csv\", 4559130)"
            ],
            "text/plain": [
              "<IPython.core.display.Javascript object>"
            ]
          },
          "metadata": {}
        }
      ]
    },
    {
      "cell_type": "code",
      "source": [
        "sample = pd.read_csv('/content/sample_submission.csv')"
      ],
      "metadata": {
        "id": "pkvt6dLn1UQw"
      },
      "execution_count": null,
      "outputs": []
    },
    {
      "cell_type": "code",
      "source": [
        "# Some feature Enginering Ideas from Aladdin Persson https://www.youtube.com/watch?v=MOnk75_8b9M&list=PLhhyoLH6IjfxkVb3Yx4mjLdwMWP5S_Hct&index=5\n",
        "'''As investigated above in PCA there is no corrleation among the features. There appears to have been some transformations\n",
        "to the data. Feature engineering will hopefully allow the neural network to expose some interesting connections in the data'''\n",
        "\n"
      ],
      "metadata": {
        "colab": {
          "base_uri": "https://localhost:8080/",
          "height": 206
        },
        "id": "Tgw0cAMj1c2m",
        "outputId": "e1b22142-ff3f-4e4b-a6f2-3545234b4792"
      },
      "execution_count": null,
      "outputs": [
        {
          "output_type": "execute_result",
          "data": {
            "text/html": [
              "\n",
              "  <div id=\"df-43eaee87-4bc8-4191-9bd5-3e76f23cb03e\">\n",
              "    <div class=\"colab-df-container\">\n",
              "      <div>\n",
              "<style scoped>\n",
              "    .dataframe tbody tr th:only-of-type {\n",
              "        vertical-align: middle;\n",
              "    }\n",
              "\n",
              "    .dataframe tbody tr th {\n",
              "        vertical-align: top;\n",
              "    }\n",
              "\n",
              "    .dataframe thead th {\n",
              "        text-align: right;\n",
              "    }\n",
              "</style>\n",
              "<table border=\"1\" class=\"dataframe\">\n",
              "  <thead>\n",
              "    <tr style=\"text-align: right;\">\n",
              "      <th></th>\n",
              "      <th>ID_code</th>\n",
              "      <th>target</th>\n",
              "    </tr>\n",
              "  </thead>\n",
              "  <tbody>\n",
              "    <tr>\n",
              "      <th>0</th>\n",
              "      <td>test_0</td>\n",
              "      <td>0</td>\n",
              "    </tr>\n",
              "    <tr>\n",
              "      <th>1</th>\n",
              "      <td>test_1</td>\n",
              "      <td>0</td>\n",
              "    </tr>\n",
              "    <tr>\n",
              "      <th>2</th>\n",
              "      <td>test_2</td>\n",
              "      <td>0</td>\n",
              "    </tr>\n",
              "    <tr>\n",
              "      <th>3</th>\n",
              "      <td>test_3</td>\n",
              "      <td>0</td>\n",
              "    </tr>\n",
              "    <tr>\n",
              "      <th>4</th>\n",
              "      <td>test_4</td>\n",
              "      <td>0</td>\n",
              "    </tr>\n",
              "  </tbody>\n",
              "</table>\n",
              "</div>\n",
              "      <button class=\"colab-df-convert\" onclick=\"convertToInteractive('df-43eaee87-4bc8-4191-9bd5-3e76f23cb03e')\"\n",
              "              title=\"Convert this dataframe to an interactive table.\"\n",
              "              style=\"display:none;\">\n",
              "        \n",
              "  <svg xmlns=\"http://www.w3.org/2000/svg\" height=\"24px\"viewBox=\"0 0 24 24\"\n",
              "       width=\"24px\">\n",
              "    <path d=\"M0 0h24v24H0V0z\" fill=\"none\"/>\n",
              "    <path d=\"M18.56 5.44l.94 2.06.94-2.06 2.06-.94-2.06-.94-.94-2.06-.94 2.06-2.06.94zm-11 1L8.5 8.5l.94-2.06 2.06-.94-2.06-.94L8.5 2.5l-.94 2.06-2.06.94zm10 10l.94 2.06.94-2.06 2.06-.94-2.06-.94-.94-2.06-.94 2.06-2.06.94z\"/><path d=\"M17.41 7.96l-1.37-1.37c-.4-.4-.92-.59-1.43-.59-.52 0-1.04.2-1.43.59L10.3 9.45l-7.72 7.72c-.78.78-.78 2.05 0 2.83L4 21.41c.39.39.9.59 1.41.59.51 0 1.02-.2 1.41-.59l7.78-7.78 2.81-2.81c.8-.78.8-2.07 0-2.86zM5.41 20L4 18.59l7.72-7.72 1.47 1.35L5.41 20z\"/>\n",
              "  </svg>\n",
              "      </button>\n",
              "      \n",
              "  <style>\n",
              "    .colab-df-container {\n",
              "      display:flex;\n",
              "      flex-wrap:wrap;\n",
              "      gap: 12px;\n",
              "    }\n",
              "\n",
              "    .colab-df-convert {\n",
              "      background-color: #E8F0FE;\n",
              "      border: none;\n",
              "      border-radius: 50%;\n",
              "      cursor: pointer;\n",
              "      display: none;\n",
              "      fill: #1967D2;\n",
              "      height: 32px;\n",
              "      padding: 0 0 0 0;\n",
              "      width: 32px;\n",
              "    }\n",
              "\n",
              "    .colab-df-convert:hover {\n",
              "      background-color: #E2EBFA;\n",
              "      box-shadow: 0px 1px 2px rgba(60, 64, 67, 0.3), 0px 1px 3px 1px rgba(60, 64, 67, 0.15);\n",
              "      fill: #174EA6;\n",
              "    }\n",
              "\n",
              "    [theme=dark] .colab-df-convert {\n",
              "      background-color: #3B4455;\n",
              "      fill: #D2E3FC;\n",
              "    }\n",
              "\n",
              "    [theme=dark] .colab-df-convert:hover {\n",
              "      background-color: #434B5C;\n",
              "      box-shadow: 0px 1px 3px 1px rgba(0, 0, 0, 0.15);\n",
              "      filter: drop-shadow(0px 1px 2px rgba(0, 0, 0, 0.3));\n",
              "      fill: #FFFFFF;\n",
              "    }\n",
              "  </style>\n",
              "\n",
              "      <script>\n",
              "        const buttonEl =\n",
              "          document.querySelector('#df-43eaee87-4bc8-4191-9bd5-3e76f23cb03e button.colab-df-convert');\n",
              "        buttonEl.style.display =\n",
              "          google.colab.kernel.accessAllowed ? 'block' : 'none';\n",
              "\n",
              "        async function convertToInteractive(key) {\n",
              "          const element = document.querySelector('#df-43eaee87-4bc8-4191-9bd5-3e76f23cb03e');\n",
              "          const dataTable =\n",
              "            await google.colab.kernel.invokeFunction('convertToInteractive',\n",
              "                                                     [key], {});\n",
              "          if (!dataTable) return;\n",
              "\n",
              "          const docLinkHtml = 'Like what you see? Visit the ' +\n",
              "            '<a target=\"_blank\" href=https://colab.research.google.com/notebooks/data_table.ipynb>data table notebook</a>'\n",
              "            + ' to learn more about interactive tables.';\n",
              "          element.innerHTML = '';\n",
              "          dataTable['output_type'] = 'display_data';\n",
              "          await google.colab.output.renderOutput(dataTable, element);\n",
              "          const docLink = document.createElement('div');\n",
              "          docLink.innerHTML = docLinkHtml;\n",
              "          element.appendChild(docLink);\n",
              "        }\n",
              "      </script>\n",
              "    </div>\n",
              "  </div>\n",
              "  "
            ],
            "text/plain": [
              "  ID_code  target\n",
              "0  test_0       0\n",
              "1  test_1       0\n",
              "2  test_2       0\n",
              "3  test_3       0\n",
              "4  test_4       0"
            ]
          },
          "metadata": {},
          "execution_count": 101
        }
      ]
    },
    {
      "cell_type": "code",
      "source": [
        "#Half of the train data appeared to be copies of other examples.\n",
        "#Take out unique examples and create a binary column saying if it is unique.\n",
        "from tqdm import tqdm\n",
        "col_names = [f\"var_{i}\" for i in range(200)]\n",
        "for col in tqdm(col_names):\n",
        "  count = test[col].value_counts()\n",
        "  #If count has only 1 then it is unique. Check for all.\n",
        "  uniques = count.index[count == 1]\n",
        "  test[col + \"_u\"] = test[col].isin(uniques)\n",
        "\n",
        "test[\"has_unique\"] = test[[col + \"_u\" for col in col_names]].any(axis=1)"
      ],
      "metadata": {
        "id": "SpRf8zfUZREv"
      },
      "execution_count": null,
      "outputs": []
    },
    {
      "cell_type": "code",
      "source": [
        "test[\"has_unique\"].sum()"
      ],
      "metadata": {
        "id": "vDVAHdtkahPR"
      },
      "execution_count": null,
      "outputs": []
    },
    {
      "cell_type": "code",
      "source": [
        "real_test = test.loc[test[\"has_unique\"], [\"ID_code\"] + col_names]\n",
        "fake_test = test.loc[~test[\"has_unique\"], [\"ID_code\"] + col_names]\n",
        "\n",
        "#Original Author concatinated train and test set. This exposes the test set\n",
        "\n",
        "train_and_test = pd.concat([train, real_test], axis=0)\n"
      ],
      "metadata": {
        "id": "Z4wNkkfKakB3"
      },
      "execution_count": null,
      "outputs": []
    },
    {
      "cell_type": "code",
      "source": [
        "for col in tqdm(col_names):\n",
        "  count = train_and_test[col].value_counts().to_dict()\n",
        "  train_and_test[col + \"_unique\"] = train_and_test[col].apply(\n",
        "      lambda x: 1 if count[x] == 1 else 0).values\n",
        "      #apply each value to those and map to new column\n",
        "    fake_test[col+\"_unique\"] = 0\n",
        "  )"
      ],
      "metadata": {
        "id": "JGp6HHoRa5w2"
      },
      "execution_count": null,
      "outputs": []
    },
    {
      "cell_type": "code",
      "source": [
        "real_test = train_and_test[train_and_test[\"ID_code\"].str.contains(\"test\")].copy()\n",
        "real_test.drop([\"target\"], axis = 1, inplace = True)\n",
        "engineered_train = train_and_test[train_and_test[\"ID_code\"].str.contains(\"train\")].copy()"
      ],
      "metadata": {
        "id": "6vDDlKUKbcBr"
      },
      "execution_count": null,
      "outputs": []
    },
    {
      "cell_type": "code",
      "source": [
        "engineered_test = pd.concat([real_test, fake_test], axis = 0)\n"
      ],
      "metadata": {
        "id": "hY0tfcxDdXLU"
      },
      "execution_count": null,
      "outputs": []
    }
  ]
}